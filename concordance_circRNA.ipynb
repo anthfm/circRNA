{
 "cells": [
  {
   "cell_type": "markdown",
   "metadata": {},
   "source": [
    "# Data Processing"
   ]
  },
  {
   "cell_type": "code",
   "execution_count": 3,
   "metadata": {},
   "outputs": [],
   "source": [
    "library(PharmacoGx, quietly=TRUE)\n",
    "library(Biobase, quietly=TRUE)\n",
    "library(calibrate, quietly=TRUE)\n",
    "library(forestplot, quietly=TRUE)\n",
    "library(survcomp, quietly=TRUE)\n",
    "library(DESeq2, quietly=TRUE)\n",
    "library(dplyr, quietly=TRUE)\n",
    "library(stringr, quietly=TRUE)\n",
    "library(gimme, quietly=TRUE)"
   ]
  },
  {
   "cell_type": "code",
   "execution_count": 4,
   "metadata": {},
   "outputs": [],
   "source": [
    "options(stringsAsFactors = F)\n",
    "#match cell.id to unique.cellid from PharmacoGx\n",
    "matchToIDTable <- function(ids,tbl, column, returnColumn=\"unique.cellid\") {\n",
    "  sapply(ids, function(x) {\n",
    "    myx <- grep(paste0(\"((///)|^)\",Hmisc::escapeRegex(x),\"((///)|$)\"), tbl[,column])\n",
    "    if(length(myx) > 1){\n",
    "      stop(\"Something went wrong in curating ids, we have multiple matches\")\n",
    "    }\n",
    "    if(length(myx) == 0){return(NA_character_)}\n",
    "    return(tbl[myx, returnColumn])\n",
    "  })\n",
    "}"
   ]
  },
  {
   "cell_type": "code",
   "execution_count": 5,
   "metadata": {},
   "outputs": [],
   "source": [
    "#creates list of all gene-drug combinations\n",
    "expand.grid.unique <- function(x, y, include.equals=FALSE)\n",
    "{\n",
    "  x <- unique(x)\n",
    "  y <- unique(y)\n",
    "  g <- function(i)\n",
    "  {\n",
    "    z <- setdiff(y, x[seq_len(i-include.equals)])\n",
    "    \n",
    "    if(length(z)) cbind(x[i], z, deparse.level=0)\n",
    "  }\n",
    "  do.call(rbind, lapply(seq_along(x), g))\n",
    "}"
   ]
  },
  {
   "cell_type": "markdown",
   "metadata": {},
   "source": [
    "## <u>Read in cell line annotations & convert to unique.cellid (gCSI, CCLE, GDSC)</u>"
   ]
  },
  {
   "cell_type": "code",
   "execution_count": 6,
   "metadata": {},
   "outputs": [],
   "source": [
    "##read in current cell annotations\n",
    "cell_all <- read.csv(file = \"rnaseq_meta/cell_annotation_all.csv\", na.strings=c(\"\", \" \", \"NA\"))"
   ]
  },
  {
   "cell_type": "code",
   "execution_count": 7,
   "metadata": {},
   "outputs": [],
   "source": [
    "#read in gcsi cell annotations\n",
    "gcsi <- read.csv(file = \"rnaseq_meta/gcsi_rnaseq_meta.csv\")\n",
    "gcsi$cellid <- matchToIDTable(ids=gcsi$Cell_line , tbl = cell_all, column = \"GNE.cellid\", returnColumn = \"unique.cellid\")\n",
    "rownames(gcsi) <- gcsi$alias\n",
    "\n",
    "#read in ccle cell annotations\n",
    "ccle <- read.csv(file = \"rnaseq_meta/ccle_rnaseq_meta.csv\")\n",
    "ccle$cellid <- matchToIDTable(ids=ccle$Cell_Line , tbl = cell_all, column = \"CCLE.cellid\", returnColumn = \"unique.cellid\")\n",
    "rownames(ccle) <- ccle$Run\n",
    "\n",
    "#read in gdsc cell annotations\n",
    "gdsc <- read.csv(file = \"rnaseq_meta/gdsc_rnaseq_meta.txt\", sep = \"\\t\")\n",
    "gdsc <- gdsc[which(!gdsc$Comment.SUBMITTED_FILE_NAME. == \"15552_5.cram\"),]\n",
    "gdsc$cellid <- matchToIDTable(ids=gdsc$Source.Name, tbl = cell_all, column = \"GDSC_rnaseq.cellid\", returnColumn = \"unique.cellid\")\n",
    "gdsc$files <- gsub(\".cram\",\"\",gdsc$Comment.SUBMITTED_FILE_NAME.)\n",
    "rownames(gdsc) <- gdsc$files"
   ]
  },
  {
   "cell_type": "markdown",
   "metadata": {},
   "source": [
    "## <u>Read in circAtlas annotations for CIRI2 annotation</u>"
   ]
  },
  {
   "cell_type": "code",
   "execution_count": 8,
   "metadata": {},
   "outputs": [],
   "source": [
    "circAtlas <- read.csv(\"circAtlas/hg38_hg19_v2.0.txt\", sep = \"\\t\", header = F, na.strings = \"-\")\n",
    "circAtlas <- circAtlas[-c(1,2),] \n",
    "colnames(circAtlas) <- c(\"species\",\"circAtlas_ID\",\"hg38\",\"hg19\",\"circBase\",\"circRNADb\",\"deepbase2\",\"circpedia2\")\n",
    "#circAtlas$hg19 <- gsub(\"\\\\|\",\"-\",circAtlas$hg19)\n",
    "circAtlas$circAtlas_ID[grep(\"chr\", circAtlas$circAtlas_ID)] <- NA #remove ID's with hg38 coordinates.\n",
    "circAtlas <- circAtlas[-which(duplicated(circAtlas$hg19)),] #remove circRNA coordinates that are duplicated (won't be able to identify which is which)\n",
    "circAtlas <- circAtlas[-which(is.na(circAtlas$hg19)),]"
   ]
  },
  {
   "cell_type": "markdown",
   "metadata": {},
   "source": [
    "## <u>Read in circBase annotations for CIRCexplorer2 annotation</u>"
   ]
  },
  {
   "cell_type": "code",
   "execution_count": null,
   "metadata": {},
   "outputs": [],
   "source": [
    "circBase <- read.csv()"
   ]
  },
  {
   "cell_type": "markdown",
   "metadata": {},
   "source": [
    "## <u>circRNA count matrix generation (summarizeCIRIMatrix, summarizeCIRCMatrix)</u>"
   ]
  },
  {
   "cell_type": "markdown",
   "metadata": {},
   "source": [
    "### Function accomplishes the following:\n",
    "- creates circRNA count matrix for each respective circRNA_ID all samples in a dataset (e.g. gCSI) for each tool (CIRI2, CIRCexplorer2)\n",
    "\n",
    "<u>*NOTE*:</u> utilizes summarizeCIRI/summarizeCIRC output (circRNA_IDs)"
   ]
  },
  {
   "cell_type": "markdown",
   "metadata": {},
   "source": [
    "#### CIRI2"
   ]
  },
  {
   "cell_type": "code",
   "execution_count": 14,
   "metadata": {},
   "outputs": [],
   "source": [
    "#import summarizeCIRI results to obtain all unique circRNA_ID's to create circRNA count matrix\n",
    "load(\"summarizeCIRI.RData\")\n",
    "unique_ids <- unique(c(gcsi_ciri_summ$circRNA_ids, \n",
    "                       ccle_ciri_summ$circRNA_ids, \n",
    "                       gdsc_ciri_summ$circRNA_ids, \n",
    "                       hansen_ciri_summ$circRNA_ids, \n",
    "                       hansen_ciri_matched_summ$circRNA_ids, \n",
    "                       gdsc_ribozero_ciri_summ$circRNA_ids))\n"
   ]
  },
  {
   "cell_type": "code",
   "execution_count": 15,
   "metadata": {},
   "outputs": [],
   "source": [
    "summarizeCIRIMatrix <- function(dir_path, unique_circ_ids, RNAseR_dir=FALSE, suff=FALSE){\n",
    "  #if RNAseR matched samples provided\n",
    "  if (!isFALSE(RNAseR_dir)){\n",
    "    #\"*neg.tsv$\" <- for ribominus\n",
    "    #\"\\\\.tsv$\"<- for poly-A selected data\n",
    "    ciri_files <- list.files(path=dir_path, pattern = suff, full.names = T)\n",
    "    circid_matrix <- data.frame(matrix(ncol=length(ciri_files), nrow = length(unique_circ_ids)))\n",
    "    rownames(circid_matrix) <- unique_circ_ids\n",
    "    \n",
    "    for (f in 1:length(ciri_files)) {\n",
    "    sample <- read.table(file = ciri_files[f], \n",
    "                         sep = '\\t', \n",
    "                         skip = 1,\n",
    "                         header = FALSE)\n",
    "    \n",
    "    sample_name <- gsub(\"\\\\..*\",\"\", ciri_files[f])\n",
    "    sample_name <- gsub(\".*/\",\"\", sample_name)\n",
    "    match_name <- gsub(\"ccle|gcsi\", \"\",ciri_files[f])\n",
    "    match_name <- gsub(\"\\\\..*\",\"\", match_name)\n",
    "    match_name <- gsub(\".*/\",\"\", match_name)\n",
    "    match_name <- gsub(\"neg\",\"\", match_name)\n",
    "    \n",
    "    RNAseR_match <- read.table(file = paste0(RNAseR_dir, match_name,\"pos.tsv\"), \n",
    "                               sep = '\\t', \n",
    "                               skip = 1,\n",
    "                               header = FALSE)\n",
    "    \n",
    "    colnames(sample) <- c(\"circRNA_ID\",\"chr\",\"circRNA_start\",\"circRNA_end\",\"junction_reads\", \"SM_MS_SMS\", \"non_junction_reads\", \"junction_reads_ratio\", \"circRNA_type\", \"gene_id\", \"strand\",\"junction_reads_ID\")\n",
    "    colnames(RNAseR_match) <- c(\"circRNA_ID\",\"chr\",\"circRNA_start\",\"circRNA_end\",\"junction_reads\", \"SM_MS_SMS\", \"non_junction_reads\", \"junction_reads_ratio\", \"circRNA_type\", \"gene_id\", \"strand\",\"junction_reads_ID\")\n",
    "\n",
    "    sample_match <- sample[which(sample$circRNA_type==\"exon\"),] #keep exonic circRNA's only\n",
    "    sample_match <- sample_match[which(sample_match$junction_reads >= 2),] #keep only circRNA's with junction reads >= 2\n",
    "    \n",
    "    RNAseR_match <- RNAseR_match[which(RNAseR_match$circRNA_type==\"exon\"),] #keep exonic circRNA's only\n",
    "    RNAseR_match <- RNAseR_match[which(RNAseR_match$junction_reads >= 2),]  #keep only circRNA's with junction reads >= 2 \n",
    "    \n",
    "    sample_match <- sample_match[which(sample_match$circRNA_ID %in% RNAseR_match$circRNA_ID),]\n",
    "    RNAseR_match <- RNAseR_match[which(RNAseR_match$circRNA_ID %in% sample_match$circRNA_ID),]\n",
    "    \n",
    "    sample <- sample_match[RNAseR_match$junction_reads/sample_match$junction_reads >= 1.5,] #keep only circRNA's with at least 1.5-fold enrichment in matching RNAse-R sample\n",
    "    \n",
    "    #group junction reads by circRNA_ID\n",
    "    circ_reads <- sample %>% \n",
    "      group_by(circRNA_ID) %>% \n",
    "      summarise(junction_reads = sum(junction_reads))\n",
    "    \n",
    "    circ_reads <- as.data.frame(circ_reads)\n",
    "    rownames(circ_reads) <- circ_reads$circRNA_ID\n",
    "    \n",
    "    #add sample to circRNA_ID count matrix\n",
    "    circid_matrix[rownames(circ_reads), f] <- circ_reads$junction_reads\n",
    "    names(circid_matrix)[f] <- sample_name\n",
    "    \n",
    "  }\n",
    "    \n",
    "  } else {\n",
    "    \n",
    "  ciri_files <- list.files(path=dir_path,  pattern = \"\\\\.tsv$\", full.names = T)\n",
    "  circid_matrix <- data.frame(matrix(ncol=length(ciri_files), nrow = length(unique_circ_ids)))\n",
    "  rownames(circid_matrix) <- unique_circ_ids\n",
    "  \n",
    "  for (f in 1:length(ciri_files)) {\n",
    "    sample <- read.table(file = ciri_files[f], \n",
    "                         sep = '\\t', \n",
    "                         skip = 1,\n",
    "                         header = FALSE)\n",
    "    \n",
    "    colnames(sample) <- c(\"circRNA_ID\",\"chr\",\"circRNA_start\",\"circRNA_end\",\"junction_reads\", \"SM_MS_SMS\", \"non_junction_reads\", \"junction_reads_ratio\", \"circRNA_type\", \"gene_id\", \"strand\",\"junction_reads_ID\")\n",
    "    sample_name <- gsub(\"\\\\..*\",\"\", ciri_files[f])\n",
    "    sample_name <- gsub(\".*/\",\"\", sample_name)\n",
    "    sample <- sample[which(sample$circRNA_type==\"exon\"),]\n",
    "    sample <- sample[which(sample$junction_reads >= 2),]\n",
    "    \n",
    "   #group junction reads by circRNA_ID\n",
    "    circ_reads <- sample %>% \n",
    "      group_by(circRNA_ID) %>% \n",
    "      summarise(junction_reads = sum(junction_reads))\n",
    "    \n",
    "    circ_reads <- as.data.frame(circ_reads)\n",
    "    rownames(circ_reads) <- circ_reads$circRNA_ID\n",
    "    \n",
    "    #add sample to circRNA_ID count matrix\n",
    "    circid_matrix[rownames(circ_reads), f] <- circ_reads$junction_reads\n",
    "    names(circid_matrix)[f] <- sample_name\n",
    "    \n",
    "      }\n",
    "    }\n",
    "  circid_matrix <- circid_matrix[rowSums(is.na(circid_matrix)) != ncol(circid_matrix), ]#remove rows that have NO exp (NA) for any sample\n",
    "  circid_matrix[is.na(circid_matrix)] <- 0\n",
    "  return(circid_matrix)\n",
    "  \n",
    "} "
   ]
  },
  {
   "cell_type": "code",
   "execution_count": 16,
   "metadata": {},
   "outputs": [],
   "source": [
    "gcsi_ciri_matrix <- summarizeCIRIMatrix(dir_path = \"results/CIRI2/gCSI/result\", unique_circ_ids = unique_ids)\n",
    "ccle_ciri_matrix <- summarizeCIRIMatrix(dir_path = \"results/CIRI2/CCLE/result\", unique_circ_ids = unique_ids)\n",
    "gdsc_ciri_matrix <- summarizeCIRIMatrix(dir_path = \"results/CIRI2/GDSC/result\", unique_circ_ids = unique_ids)\n",
    "\n",
    "#hansen ribozero with hansen RNAseR validaton\n",
    "hansen_ciri_ribozero_matrix <- summarizeCIRIMatrix(dir_path = \"results/CIRI2/hansen/result\", \n",
    "                                                   unique_circ_ids = unique_ids, \n",
    "                                                   suff = \"*neg.tsv$\", \n",
    "                                                   RNAseR_dir = \"results/CIRI2/hansen/result/\")\n",
    "\n",
    "\n",
    "#cell line polyA with hansen RNAseR validaton\n",
    "hansen_ciri_polyA_matrix <- summarizeCIRIMatrix(dir_path = \"results/CIRI2/hansen_match/result\", \n",
    "                                                   unique_circ_ids = unique_ids, \n",
    "                                                   suff = \"\\\\.tsv$\", \n",
    "                                                   RNAseR_dir = \"results/CIRI2/hansen/result/\")\n",
    "\n",
    "gdsc_ribozero_ciri_matrix <- summarizeCIRIMatrix(dir_path = \"results/CIRI2/GDSC_Ribo/result\", unique_circ_ids = unique_ids)\n",
    "\n",
    "\n",
    "save(gcsi_ciri_matrix, \n",
    "     ccle_ciri_matrix, \n",
    "     gdsc_ciri_matrix, \n",
    "     hansen_ciri_ribozero_matrix, \n",
    "     hansen_ciri_polyA_matrix, \n",
    "     gdsc_ribozero_ciri_matrix, file= \"CIRI2/ciri_circ_matrix.RData\")\n",
    "\n",
    "#because there are genes with no circRNA exp (0), we need to log2 normalize + 1 for each gene\n",
    "gcsi_ciri_matrix_norm <- log2(gcsi_ciri_matrix + 1)\n",
    "ccle_ciri_matrix_norm <- log2(ccle_ciri_matrix + 1)\n",
    "gdsc_ciri_matrix_norm <- log2(gdsc_ciri_matrix + 1)\n",
    "\n",
    "#use unique.cellids for column names of gene matrix & keep same column name order as gCSI\n",
    "colnames(gcsi_ciri_matrix_norm) <- gsub(\"gcsi\",\"\", colnames(gcsi_ciri_matrix_norm))\n",
    "colnames(gcsi_ciri_matrix_norm) <- gcsi$cellid[match(colnames(gcsi_ciri_matrix_norm), rownames(gcsi))]\n",
    "\n",
    "colnames(gdsc_ciri_matrix_norm) <- gsub(\"gdsc\",\"\", colnames(gdsc_ciri_matrix_norm))\n",
    "colnames(gdsc_ciri_matrix_norm) <- gdsc$cellid[match(colnames(gdsc_ciri_matrix_norm), rownames(gdsc))]\n",
    "gdsc_ciri_matrix_norm <- gdsc_ciri_matrix_norm[names(gcsi_ciri_matrix_norm)]\n",
    "\n",
    "colnames(ccle_ciri_matrix_norm) <- ccle$cellid[match(colnames(ccle_ciri_matrix_norm), rownames(ccle))]\n",
    "ccle_ciri_matrix_norm <- ccle_ciri_matrix_norm[names(gcsi_ciri_matrix_norm)]"
   ]
  },
  {
   "cell_type": "markdown",
   "metadata": {},
   "source": [
    "#### CIRCexplorer2"
   ]
  },
  {
   "cell_type": "code",
   "execution_count": 24,
   "metadata": {},
   "outputs": [],
   "source": [
    "#import summarizeCIRI results to obtain all unique circRNA_ID's to create circRNA count matrix\n",
    "load(\"summarizeCIRC.RData\")\n",
    "unique_ids <- unique(c(gcsi_circ_summ$circRNA_ids, \n",
    "                       ccle_circ_summ$circRNA_ids, \n",
    "                       gdsc_circ_summ$circRNA_ids, \n",
    "                       hansen_circ_summ$circRNA_ids, \n",
    "                       hansen_circ_matched_summ$circRNA_ids, \n",
    "                       gdsc_ribozero_circ_summ$circRNA_ids))\n",
    "\n"
   ]
  },
  {
   "cell_type": "code",
   "execution_count": 26,
   "metadata": {},
   "outputs": [],
   "source": [
    "summarizeCIRCMatrix <- function(dir_path, unique_circ_ids, RNAseR_dir=FALSE, suff=FALSE){\n",
    "    \n",
    "  #if RNAseR matched samples provided\n",
    "  if (!isFALSE(RNAseR_dir)){\n",
    "    #\"*neg*\" <- for ribominus\n",
    "    #\"\\\\.txt$\"<- for poly-A selected data\n",
    "    circ_files <- list.files(path=dir_path,  pattern = suff, full.names = T, recursive = TRUE)\n",
    "    circid_matrix <- data.frame(matrix(ncol=length(circ_files), nrow = length(unique_circ_ids)))\n",
    "    rownames(circid_matrix) <- unique_circ_ids\n",
    "    \n",
    "      for (f in 1:length(circ_files)) {\n",
    "        sample <- read.table(file = circ_files[f], \n",
    "                         sep = '\\t',\n",
    "                         header = FALSE)\n",
    "    \n",
    "        sample_name <- gsub(\"_circularRNA_known.txt\",\"\", circ_files[f])\n",
    "        sample_name <- gsub(\".*/\",\"\", sample_name)\n",
    "        match_name <- gsub(\"neg\", \"\",sample_name)\n",
    "        match_name <- gsub(\"ccle|gcsi\", \"\",match_name)\n",
    "    \n",
    "        RNAseR_match <- read.table(file = paste0(RNAseR_dir, \"/\" ,match_name, \"pos\", \"/\", match_name,\"pos\", \"_circularRNA_known.txt\"),\n",
    "                               sep = '\\t',\n",
    "                               header = FALSE)\n",
    "    \n",
    "        colnames(sample) <- c(\"chrom\",\"start\",\"end\", \"name\",\"score\",\"strand\",\"thickStart\",\"thickEnd\",\"itemRgb\",\"exonCount\",\"exonSizes\", \"exonOffsets\", \"readNumber\", \"circType\", \"geneName\", \"isoformName\", \"index\", \"flankIntron\")\n",
    "        colnames(RNAseR_match) <- c(\"chrom\",\"start\",\"end\", \"name\",\"score\",\"strand\",\"thickStart\",\"thickEnd\",\"itemRgb\",\"exonCount\",\"exonSizes\", \"exonOffsets\", \"readNumber\", \"circType\", \"geneName\", \"isoformName\", \"index\", \"flankIntron\")\n",
    "    \n",
    "        sample_match <- sample[which(sample$circType==\"circRNA\"),]\n",
    "        sample_match <- sample_match[which(sample_match$readNumber >= 2),] #keep only circRNA's with junction reads >= 2\n",
    "    \n",
    "        RNAseR_match <- RNAseR_match[which(RNAseR_match$circType==\"circRNA\"),]\n",
    "        RNAseR_match <- RNAseR_match[which(RNAseR_match$readNumber >= 2),]\n",
    "        \n",
    "        #create circRNA ID\n",
    "        sample_match$circRNA_ID <- paste0(sample_match$chrom,\":\",sample_match$start,\"|\",sample_match$end)\n",
    "        RNAseR_match$circRNA_ID <- paste0(RNAseR_match$chrom,\":\",RNAseR_match$start,\"|\",RNAseR_match$end)\n",
    "    \n",
    "        sample_match <- sample_match[which(sample_match$circRNA_ID %in% RNAseR_match$circRNA_ID),]\n",
    "        RNAseR_match <- RNAseR_match[which(RNAseR_match$circRNA_ID %in% sample_match$circRNA_ID),]\n",
    "        RNAseR_match  <- RNAseR_match[match(sample_match$circRNA_ID, RNAseR_match$circRNA_ID),]\n",
    "          \n",
    "        sample <- sample_match[RNAseR_match$readNumber/sample_match$readNumber >= 1.5,] #keep only circRNA's with at least 1.5-fold enrichment in matching RNAse-R sample\n",
    "    \n",
    "        #group junction reads by circRNA_ID\n",
    "        circ_reads <- sample %>% \n",
    "        group_by(circRNA_ID) %>% \n",
    "        summarise(readNumber = sum(readNumber))\n",
    "    \n",
    "    \n",
    "        circ_reads <- as.data.frame(circ_reads)\n",
    "        rownames(circ_reads) <- circ_reads$circRNA_ID\n",
    "    \n",
    "        #add sample to circRNA_ID count matrix\n",
    "        circid_matrix[rownames(circ_reads), f] <- circ_reads$readNumber\n",
    "        names(circid_matrix)[f] <- sample_name\n",
    "      }\n",
    "      \n",
    "  } else {\n",
    "  \n",
    "  circ_files <- list.files(path=dir_path,  pattern = \".txt\", full.names = T, recursive = TRUE)\n",
    "  circid_matrix <- data.frame(matrix(ncol=length(circ_files), nrow = length(unique_circ_ids)))\n",
    "  rownames(circid_matrix) <- unique_circ_ids\n",
    "  \n",
    "  for (f in 1:length(circ_files)) {\n",
    "    sample <- read.table(file = circ_files[f], \n",
    "                         sep = '\\t', \n",
    "                         header = FALSE)\n",
    "    \n",
    "    colnames(sample) <- c(\"chrom\",\"start\",\"end\", \"name\",\"score\",\"strand\",\"thickStart\",\"thickEnd\",\"itemRgb\",\"exonCount\",\"exonSizes\", \"exonOffsets\", \"readNumber\", \"circType\", \"geneName\", \"isoformName\", \"index\", \"flankIntron\")\n",
    "    sample_name <- sub(\".*/ *(.*?) *.txt.*\", \"\\\\1\", circ_files[f])\n",
    "    sample_name <- gsub(\"_circularRNA_known\", \"\", sample_name)\n",
    "    sample <- sample[which(sample$circType==\"circRNA\"),]\n",
    "    sample <- sample[which(sample$readNumber >= 2),]\n",
    "    \n",
    "    \n",
    "    #create circRNA position ID, since not given, only in CIRI2 is it given automatically\n",
    "    sample$circRNA_ID <- paste0(sample$chrom,\":\",sample$start,\"|\",sample$end)\n",
    "    \n",
    "    #group junction reads by circRNA_ID\n",
    "    circ_reads <- sample %>% \n",
    "      group_by(circRNA_ID) %>% \n",
    "      summarise(readNumber = sum(readNumber))\n",
    "    \n",
    "    \n",
    "    circ_reads <- as.data.frame(circ_reads)\n",
    "    rownames(circ_reads) <- circ_reads$circRNA_ID\n",
    "    \n",
    "    #add sample to circRNA_ID count matrix\n",
    "    circid_matrix[rownames(circ_reads), f] <- circ_reads$readNumber\n",
    "    names(circid_matrix)[f] <- sample_name\n",
    "    \n",
    "    \n",
    "      }\n",
    "    }\n",
    "  circid_matrix <- circid_matrix[rowSums(is.na(circid_matrix)) != ncol(circid_matrix), ]#remove rows that have NO exp (NA) for any sample\n",
    "  circid_matrix[is.na(circid_matrix)] <- 0\n",
    "  return(circid_matrix)\n",
    "} "
   ]
  },
  {
   "cell_type": "code",
   "execution_count": 27,
   "metadata": {},
   "outputs": [],
   "source": [
    "gcsi_circ_matrix <- summarizeCIRCMatrix(dir_path = \"results/CIRCexplorer2/gCSI/unmapped_method/annotate\", unique_circ_ids = unique_ids)\n",
    "ccle_circ_matrix <- summarizeCIRCMatrix(dir_path = \"results/CIRCexplorer2/CCLE/unmapped_method/annotate\", unique_circ_ids = unique_ids)\n",
    "gdsc_circ_matrix <- summarizeCIRCMatrix(dir_path = \"results/CIRCexplorer2/GDSC/unmapped_method/annotate\", unique_circ_ids = unique_ids)\n",
    "\n",
    "\n",
    "#hansen ribozero with hansen RNAseR validaton\n",
    "hansen_circ_ribozero_matrix <- summarizeCIRCMatrix(dir_path = \"results/CIRCexplorer2/hansen/annotate\", \n",
    "                                                   unique_circ_ids = unique_ids, \n",
    "                                                   suff = \"*neg*\", \n",
    "                                                   RNAseR_dir = \"results/CIRCexplorer2/hansen/annotate\")\n",
    "\n",
    "\n",
    "#cell line polyA with hansen RNAseR validaton\n",
    "hansen_circ_polyA_matrix <- summarizeCIRCMatrix(dir_path = \"results/CIRCexplorer2/hansen_match/annotate\", \n",
    "                                                   unique_circ_ids = unique_ids, \n",
    "                                                   suff = \"\\\\.txt$\", \n",
    "                                                   RNAseR_dir = \"results/CIRCexplorer2/hansen/annotate/\")\n",
    "\n",
    "\n",
    "gdsc_ribozero_circ_matrix <- summarizeCIRCMatrix(dir_path = \"results/CIRCexplorer2/GDSC_Ribo/annotate\", unique_circ_ids = unique_ids)\n",
    "\n",
    "\n",
    "\n",
    "save(gcsi_circ_matrix, \n",
    "     ccle_circ_matrix, \n",
    "     gdsc_circ_matrix, \n",
    "     hansen_circ_ribozero_matrix,\n",
    "     hansen_circ_polyA_matrix,\n",
    "     gdsc_ribozero_circ_matrix,\n",
    "     file = \"CIRCexplorer2/circexplorer_circ_matrix.RData\")\n",
    "\n",
    "#Because there are genes with no circRNA exp (0), we need to log2 normalize + 1 for each gene\n",
    "gcsi_circ_matrix_norm <- log2(gcsi_circ_matrix + 1)\n",
    "ccle_circ_matrix_norm <- log2(ccle_circ_matrix + 1)\n",
    "gdsc_circ_matrix_norm <- log2(gdsc_circ_matrix + 1)\n",
    "\n",
    "#use unique.cellids for column names of gene matrix & keep same column name order as gCSI\n",
    "colnames(gcsi_circ_matrix_norm) <- gsub(\"gcsi\",\"\", colnames(gcsi_circ_matrix_norm))\n",
    "colnames(gcsi_circ_matrix_norm) <- gcsi$cellid[match(colnames(gcsi_circ_matrix_norm), rownames(gcsi))]\n",
    "\n",
    "colnames(gdsc_circ_matrix_norm) <- gsub(\"gdsc\",\"\", colnames(gdsc_circ_matrix_norm))\n",
    "colnames(gdsc_circ_matrix_norm) <- gdsc$cellid[match(colnames(gdsc_circ_matrix_norm), rownames(gdsc))]\n",
    "gdsc_circ_matrix_norm <- gdsc_circ_matrix_norm[names(gcsi_circ_matrix_norm)]\n",
    "\n",
    "colnames(ccle_circ_matrix_norm) <- ccle$cellid[match(colnames(ccle_circ_matrix_norm), rownames(ccle))]\n",
    "ccle_circ_matrix_norm <- ccle_circ_matrix_norm[names(gcsi_circ_matrix_norm)]\n"
   ]
  },
  {
   "cell_type": "markdown",
   "metadata": {},
   "source": [
    "## <u>Compute concordance index (CI) for all datasets (gCSI, CCLE, GDSC)</u>"
   ]
  },
  {
   "cell_type": "markdown",
   "metadata": {},
   "source": [
    "### import PSets (drug sensitivity data)"
   ]
  },
  {
   "cell_type": "code",
   "execution_count": 14,
   "metadata": {},
   "outputs": [],
   "source": [
    "gCSI <- readRDS(\"gCSI.rds\") #2017 drug sensitivity"
   ]
  },
  {
   "cell_type": "code",
   "execution_count": 15,
   "metadata": {},
   "outputs": [],
   "source": [
    "CTRPv2 <- readRDS(\"CTRPv2.rds\")"
   ]
  },
  {
   "cell_type": "code",
   "execution_count": 20,
   "metadata": {},
   "outputs": [],
   "source": [
    "CCLE <- readRDS(\"CCLE.rds\")"
   ]
  },
  {
   "cell_type": "code",
   "execution_count": 16,
   "metadata": {},
   "outputs": [],
   "source": [
    "GDSC2 <- readRDS(\"GDSC2.rds\") #v8.2 (Feb2020 drug sensitivity)"
   ]
  },
  {
   "cell_type": "markdown",
   "metadata": {},
   "source": [
    "### get average circRNA count for SR technical replicate in gCSI"
   ]
  },
  {
   "cell_type": "code",
   "execution_count": 17,
   "metadata": {},
   "outputs": [],
   "source": [
    "#CIRI2 matrix\n",
    "combined_mean <- as.data.frame(rowMeans(gcsi_ciri_matrix_norm[, c(\"SR\", \"SR\")], na.rm = TRUE))\n",
    "idx <- which(duplicated(colnames(gcsi_ciri_matrix_norm)))\n",
    "gcsi_ciri_matrix_norm <- gcsi_ciri_matrix_norm[,-idx]\n",
    "v <- combined_mean$`rowMeans(gcsi_ciri_matrix_norm[, c(\"SR\", \"SR\")], na.rm = TRUE)`\n",
    "gcsi_ciri_matrix_norm$SR <- v"
   ]
  },
  {
   "cell_type": "code",
   "execution_count": 18,
   "metadata": {},
   "outputs": [],
   "source": [
    "#CIRCexplorer2 matrix\n",
    "combined_mean <- as.data.frame(rowMeans(gcsi_circ_matrix_norm[, c(\"SR\", \"SR\")], na.rm = TRUE))\n",
    "idx <- which(duplicated(colnames(gcsi_circ_matrix_norm)))\n",
    "gcsi_circ_matrix_norm <- gcsi_circ_matrix_norm[,-idx]\n",
    "v <- combined_mean$`rowMeans(gcsi_circ_matrix_norm[, c(\"SR\", \"SR\")], na.rm = TRUE)`\n",
    "gcsi_circ_matrix_norm$SR <- v"
   ]
  },
  {
   "cell_type": "markdown",
   "metadata": {},
   "source": [
    "### summarizeSensitivityProfiles (PharmacoGx) for all datasets"
   ]
  },
  {
   "cell_type": "code",
   "execution_count": 21,
   "metadata": {},
   "outputs": [],
   "source": [
    "intersected_cells <- colnames(gcsi_ciri_matrix_norm) #intersected biological replicates\n",
    "gcsi_summarize <- summarizeSensitivityProfiles(pSet = gCSI, sensitivity.measure = \"aac_recomputed\", fill.missing = F)\n",
    "ctrpv2_summarize <- summarizeSensitivityProfiles(pSet = CTRPv2, sensitivity.measure = \"aac_recomputed\", cell.lines = intersected_cells, fill.missing = F)\n",
    "ccle_summarize <- summarizeSensitivityProfiles(pSet = CCLE, sensitivity.measure = \"aac_recomputed\", cell.lines = intersected_cells, fill.missing = F)\n",
    "gdsc_summarize <- summarizeSensitivityProfiles(pSet = GDSC2, sensitivity.measure = \"aac_recomputed\", cell.lines = intersected_cells, fill.missing = F)\n"
   ]
  },
  {
   "cell_type": "markdown",
   "metadata": {},
   "source": [
    "### compute CI for each circRNA-drug combination per dataset (CIRCexplorer + CIRI2)"
   ]
  },
  {
   "cell_type": "markdown",
   "metadata": {},
   "source": [
    "### <u>CIRI2</u>"
   ]
  },
  {
   "cell_type": "code",
   "execution_count": 22,
   "metadata": {},
   "outputs": [],
   "source": [
    "#computes concordance index (CI) for each dataset, using Gencode v33lift37 annotations\n",
    "#circRNA_normalzed_data = log2 + 1 circRNA matrix (CIRI2, CIRCexplorer2)\n",
    "#sensitivity_data = result of 'summarizeSensitivityProfiles' in PharmacoGx\n",
    "#samples = commonSamples\n",
    "\n",
    "computeCI <- function(circRNA_normalized_data, sensitivity_data, samples){\n",
    "  \n",
    "  circRNA <- rownames(circRNA_normalized_data)\n",
    "  drugs <- unique(rownames(sensitivity_data))\n",
    "  commonSamples <- samples\n",
    "  combinations <- as.data.frame(expand.grid.unique(circRNA, drugs, include.equals = TRUE))\n",
    "  combinations$ci <- NA\n",
    "  combinations$pvalue <- NA\n",
    "  colnames(combinations) <- c(\"circRNA\",\"drug\",\"ci\",\"pvalue\")\n",
    "  \n",
    "  for (i in 1:nrow(combinations)){\n",
    "    #print(paste0(i, \" out of \", nrow(combinations), \" complete\"))\n",
    "    tt <- sensitivity_data[combinations[,2][i],commonSamples]\n",
    "    tt[which(is.na(tt))] <- 0 #some sensitivities are NA due to filterNoisyCurve function, which causes error when running CI with survcomp\n",
    "    ci <- survcomp::concordance.index(tt, surv.time = unlist(-gcsi_ciri_matrix_norm[combinations[,1][i], commonSamples]), surv.event = rep(1,length(sensitivity_data[commonSamples])),outx = F, method=\"noether\")\n",
    "    combinations$pvalue[i] <- ci$p.value\n",
    "    combinations$ci[i] <- ci$c.index\n",
    "  }\n",
    "  \n",
    "  return(combinations)\n",
    "}"
   ]
  },
  {
   "cell_type": "markdown",
   "metadata": {},
   "source": [
    "#### gCSI"
   ]
  },
  {
   "cell_type": "code",
   "execution_count": 118,
   "metadata": {},
   "outputs": [],
   "source": [
    "#keep only samples where no more than 35 samples (~70%) have 0 circRNA count for a given circRNA coordinate\n",
    "gcsi_ciri_matrix_norm <- gcsi_ciri_matrix_norm[rowSums(gcsi_ciri_matrix_norm == 0) <= 35, ]"
   ]
  },
  {
   "cell_type": "code",
   "execution_count": 119,
   "metadata": {},
   "outputs": [],
   "source": [
    "#gCSI compute CI\n",
    "commonSamples <- intersect(colnames(gcsi_summarize),colnames(gcsi_ciri_matrix_norm)) #only samples with drug sensitivity in gCSI\n",
    "gcsi_ci_result <- computeCI(circRNA_normalized_data=gcsi_ciri_matrix_norm, sensitivity_data=gcsi_summarize, samples = commonSamples)"
   ]
  },
  {
   "cell_type": "code",
   "execution_count": 120,
   "metadata": {},
   "outputs": [],
   "source": [
    "#CCLE compute CI (circRNA samples not found in gCSI sensitivity)\n",
    "commonSamples <- intersect(colnames(ccle_summarize),colnames(gcsi_ciri_matrix_norm)) #only samples with drug sensitivity in CCLE\n",
    "ccle_ci_result <- computeCI(circRNA_normalized_data=gcsi_ciri_matrix_norm, sensitivity_data=ccle_summarize, samples = commonSamples)"
   ]
  },
  {
   "cell_type": "code",
   "execution_count": 121,
   "metadata": {},
   "outputs": [],
   "source": [
    "#GDSC compute CI (circRNA samples not found in gCSI sensitivity)\n",
    "commonSamples <- intersect(colnames(gdsc_summarize),colnames(gcsi_ciri_matrix_norm)) #only samples with drug sensitivity in GDSC\n",
    "gdsc_ci_result <- computeCI(circRNA_normalized_data=gcsi_ciri_matrix_norm, sensitivity_data=gdsc_summarize, samples = commonSamples)"
   ]
  },
  {
   "cell_type": "code",
   "execution_count": 122,
   "metadata": {},
   "outputs": [],
   "source": [
    "#CTRPv2 compute CI (circRNA samples not found in gCSI sensitivity)\n",
    "commonSamples <- intersect(colnames(ctrpv2_summarize),colnames(gcsi_ciri_matrix_norm)) #only samples with drug sensitivity in GDSC\n",
    "ctrpv2_ci_result <- computeCI(circRNA_normalized_data=gcsi_ciri_matrix_norm, sensitivity_data=ctrpv2_summarize, samples = commonSamples)"
   ]
  },
  {
   "cell_type": "code",
   "execution_count": 123,
   "metadata": {},
   "outputs": [],
   "source": [
    "#save all computed CI's\n",
    "save(gcsi_ci_result, file=\"CIRI2/gcsi_ci_result/gcsi_CI.RData\")\n",
    "save(ccle_ci_result, file=\"CIRI2/gcsi_ci_result/ccle_CI.RData\")\n",
    "save(gdsc_ci_result, file=\"CIRI2/gcsi_ci_result/gdsc_CI.RData\")\n",
    "save(ctrpv2_ci_result, file=\"CIRI2/gcsi_ci_result/ctrpv2_CI.RData\")"
   ]
  },
  {
   "cell_type": "markdown",
   "metadata": {},
   "source": [
    "#### CCLE"
   ]
  },
  {
   "cell_type": "code",
   "execution_count": 75,
   "metadata": {},
   "outputs": [],
   "source": [
    "#keep only samples where no more than 35 samples (~70%) have 0 circRNA count for a given circRNA coordinate\n",
    "ccle_ciri_matrix_norm <- ccle_ciri_matrix_norm[rowSums(ccle_ciri_matrix_norm == 0) <= 35, ]"
   ]
  },
  {
   "cell_type": "code",
   "execution_count": 76,
   "metadata": {},
   "outputs": [],
   "source": [
    "#CCLE compute CI\n",
    "commonSamples <- intersect(colnames(ccle_summarize),colnames(ccle_ciri_matrix_norm)) #only samples with drug sensitivity in CCLE\n",
    "ccle_ci_result <- computeCI(circRNA_normalized_data=ccle_ciri_matrix_norm, sensitivity_data=ccle_summarize, samples = commonSamples)"
   ]
  },
  {
   "cell_type": "code",
   "execution_count": 77,
   "metadata": {},
   "outputs": [],
   "source": [
    "#gCSI compute CI (circRNA samples not found in CCLE sensitivity)\n",
    "commonSamples <- intersect(colnames(gcsi_summarize),colnames(ccle_ciri_matrix_norm)) #only samples with drug sensitivity in gCSI\n",
    "gcsi_ci_result <- computeCI(circRNA_normalized_data=ccle_ciri_matrix_norm, sensitivity_data=gcsi_summarize, samples = commonSamples)"
   ]
  },
  {
   "cell_type": "code",
   "execution_count": 78,
   "metadata": {},
   "outputs": [],
   "source": [
    "#GDSC compute CI (circRNA samples not found in CCLE sensitivity)\n",
    "commonSamples <- intersect(colnames(gdsc_summarize),colnames(ccle_ciri_matrix_norm)) #only samples with drug sensitivity in GDSC\n",
    "gdsc_ci_result <- computeCI(circRNA_normalized_data=ccle_ciri_matrix_norm, sensitivity_data=gdsc_summarize, samples = commonSamples)"
   ]
  },
  {
   "cell_type": "code",
   "execution_count": 79,
   "metadata": {},
   "outputs": [],
   "source": [
    "#CTRPv2 compute CI (circRNA samples not found in CCLE sensitivity)\n",
    "commonSamples <- intersect(colnames(ctrpv2_summarize),colnames(ccle_ciri_matrix_norm)) #only samples with drug sensitivity in GDSC\n",
    "ctrpv2_ci_result <- computeCI(circRNA_normalized_data=ccle_ciri_matrix_norm, sensitivity_data=ctrpv2_summarize, samples = commonSamples)"
   ]
  },
  {
   "cell_type": "code",
   "execution_count": 80,
   "metadata": {},
   "outputs": [],
   "source": [
    "#save all computed CI's\n",
    "save(gcsi_ci_result, file=\"CIRI2/ccle_ci_result/gcsi_CI.RData\")\n",
    "save(ccle_ci_result, file=\"CIRI2/ccle_ci_result/ccle_CI.RData\")\n",
    "save(gdsc_ci_result, file=\"CIRI2/ccle_ci_result/gdsc_CI.RData\")\n",
    "save(ctrpv2_ci_result, file=\"CIRI2/ccle_ci_result/ctrpv2_CI.RData\")"
   ]
  },
  {
   "cell_type": "markdown",
   "metadata": {},
   "source": [
    "#### GDSC"
   ]
  },
  {
   "cell_type": "code",
   "execution_count": 104,
   "metadata": {},
   "outputs": [],
   "source": [
    "#keep only samples where no more than 35 samples (~70%) have 0 circRNA count for a given circRNA coordinate\n",
    "gdsc_ciri_matrix_norm <- gdsc_ciri_matrix_norm[rowSums(gdsc_ciri_matrix_norm == 0) <= 35, ]"
   ]
  },
  {
   "cell_type": "code",
   "execution_count": 105,
   "metadata": {},
   "outputs": [],
   "source": [
    "#GDSC compute CI\n",
    "commonSamples <- intersect(colnames(gdsc_summarize),colnames(gdsc_ciri_matrix_norm)) #only samples with drug sensitivity in CCLE\n",
    "gdsc_ci_result <- computeCI(circRNA_normalized_data=gdsc_ciri_matrix_norm, sensitivity_data=gdsc_summarize, samples = commonSamples)"
   ]
  },
  {
   "cell_type": "code",
   "execution_count": 106,
   "metadata": {},
   "outputs": [],
   "source": [
    "#CCLE compute CI (circRNA samples not found in GDSC sensitivity)\n",
    "commonSamples <- intersect(colnames(ccle_summarize),colnames(gdsc_ciri_matrix_norm)) #only samples with drug sensitivity in CCLE\n",
    "ccle_ci_result <- computeCI(circRNA_normalized_data=gdsc_ciri_matrix_norm, sensitivity_data=ccle_summarize, samples = commonSamples)"
   ]
  },
  {
   "cell_type": "code",
   "execution_count": 107,
   "metadata": {},
   "outputs": [],
   "source": [
    "#gCSI compute CI (circRNA samples not found in GDSC sensitivity)\n",
    "commonSamples <- intersect(colnames(gcsi_summarize),colnames(gdsc_ciri_matrix_norm)) #only samples with drug sensitivity in gCSI\n",
    "gcsi_ci_result <- computeCI(circRNA_normalized_data=gdsc_ciri_matrix_norm, sensitivity_data=gcsi_summarize, samples = commonSamples)"
   ]
  },
  {
   "cell_type": "code",
   "execution_count": 108,
   "metadata": {},
   "outputs": [],
   "source": [
    "#CTRPv2 compute CI (circRNA samples not found in GDSC sensitivity)\n",
    "commonSamples <- intersect(colnames(ctrpv2_summarize),colnames(gdsc_ciri_matrix_norm)) #only samples with drug sensitivity in GDSC\n",
    "ctrpv2_ci_result <- computeCI(circRNA_normalized_data=gdsc_ciri_matrix_norm, sensitivity_data=ctrpv2_summarize, samples = commonSamples)"
   ]
  },
  {
   "cell_type": "code",
   "execution_count": 109,
   "metadata": {},
   "outputs": [],
   "source": [
    "#save all computed CI's\n",
    "save(gcsi_ci_result, file=\"CIRI2/gdsc_ci_result/gcsi_CI.RData\")\n",
    "save(ccle_ci_result, file=\"CIRI2/gdsc_ci_result/ccle_CI.RData\")\n",
    "save(gdsc_ci_result, file=\"CIRI2/gdsc_ci_result/gdsc_CI.RData\")\n",
    "save(ctrpv2_ci_result, file=\"CIRI2/gdsc_ci_result/ctrpv2_CI.RData\")"
   ]
  },
  {
   "cell_type": "code",
   "execution_count": 149,
   "metadata": {},
   "outputs": [],
   "source": [
    "#combinations <- crossing(circRNA, drugs,samples)"
   ]
  },
  {
   "cell_type": "markdown",
   "metadata": {},
   "source": [
    "#### Hansen"
   ]
  },
  {
   "cell_type": "code",
   "execution_count": 23,
   "metadata": {},
   "outputs": [
    {
     "data": {
      "text/html": [
       "<table>\n",
       "<caption>A data.frame: 6 × 6</caption>\n",
       "<thead>\n",
       "\t<tr><th></th><th scope=col>22Rv1neg</th><th scope=col>22Rv1pos</th><th scope=col>LNCaPneg</th><th scope=col>LNCaPpos</th><th scope=col>PC3neg</th><th scope=col>PC3pos</th></tr>\n",
       "\t<tr><th></th><th scope=col>&lt;dbl&gt;</th><th scope=col>&lt;dbl&gt;</th><th scope=col>&lt;dbl&gt;</th><th scope=col>&lt;dbl&gt;</th><th scope=col>&lt;dbl&gt;</th><th scope=col>&lt;dbl&gt;</th></tr>\n",
       "</thead>\n",
       "<tbody>\n",
       "\t<tr><th scope=row>chr8:103299660|103300494</th><td>0</td><td>14</td><td>0</td><td> 0</td><td>4</td><td> 4</td></tr>\n",
       "\t<tr><th scope=row>chr17:75398140|75398785</th><td>0</td><td>10</td><td>0</td><td>96</td><td>0</td><td>34</td></tr>\n",
       "\t<tr><th scope=row>chr17:79027467|79031767</th><td>0</td><td> 0</td><td>0</td><td> 0</td><td>0</td><td> 7</td></tr>\n",
       "\t<tr><th scope=row>chr10:225933|226068</th><td>0</td><td> 0</td><td>3</td><td> 2</td><td>0</td><td> 0</td></tr>\n",
       "\t<tr><th scope=row>chr2:29011523|29011675</th><td>0</td><td> 0</td><td>0</td><td> 0</td><td>0</td><td> 2</td></tr>\n",
       "\t<tr><th scope=row>chr2:102448182|102456456</th><td>0</td><td> 0</td><td>0</td><td> 0</td><td>2</td><td> 0</td></tr>\n",
       "</tbody>\n",
       "</table>\n"
      ],
      "text/latex": [
       "A data.frame: 6 × 6\n",
       "\\begin{tabular}{r|llllll}\n",
       "  & 22Rv1neg & 22Rv1pos & LNCaPneg & LNCaPpos & PC3neg & PC3pos\\\\\n",
       "  & <dbl> & <dbl> & <dbl> & <dbl> & <dbl> & <dbl>\\\\\n",
       "\\hline\n",
       "\tchr8:103299660\\textbar{}103300494 & 0 & 14 & 0 &  0 & 4 &  4\\\\\n",
       "\tchr17:75398140\\textbar{}75398785 & 0 & 10 & 0 & 96 & 0 & 34\\\\\n",
       "\tchr17:79027467\\textbar{}79031767 & 0 &  0 & 0 &  0 & 0 &  7\\\\\n",
       "\tchr10:225933\\textbar{}226068 & 0 &  0 & 3 &  2 & 0 &  0\\\\\n",
       "\tchr2:29011523\\textbar{}29011675 & 0 &  0 & 0 &  0 & 0 &  2\\\\\n",
       "\tchr2:102448182\\textbar{}102456456 & 0 &  0 & 0 &  0 & 2 &  0\\\\\n",
       "\\end{tabular}\n"
      ],
      "text/markdown": [
       "\n",
       "A data.frame: 6 × 6\n",
       "\n",
       "| <!--/--> | 22Rv1neg &lt;dbl&gt; | 22Rv1pos &lt;dbl&gt; | LNCaPneg &lt;dbl&gt; | LNCaPpos &lt;dbl&gt; | PC3neg &lt;dbl&gt; | PC3pos &lt;dbl&gt; |\n",
       "|---|---|---|---|---|---|---|\n",
       "| chr8:103299660|103300494 | 0 | 14 | 0 |  0 | 4 |  4 |\n",
       "| chr17:75398140|75398785 | 0 | 10 | 0 | 96 | 0 | 34 |\n",
       "| chr17:79027467|79031767 | 0 |  0 | 0 |  0 | 0 |  7 |\n",
       "| chr10:225933|226068 | 0 |  0 | 3 |  2 | 0 |  0 |\n",
       "| chr2:29011523|29011675 | 0 |  0 | 0 |  0 | 0 |  2 |\n",
       "| chr2:102448182|102456456 | 0 |  0 | 0 |  0 | 2 |  0 |\n",
       "\n"
      ],
      "text/plain": [
       "                         22Rv1neg 22Rv1pos LNCaPneg LNCaPpos PC3neg PC3pos\n",
       "chr8:103299660|103300494 0        14       0         0       4       4    \n",
       "chr17:75398140|75398785  0        10       0        96       0      34    \n",
       "chr17:79027467|79031767  0         0       0         0       0       7    \n",
       "chr10:225933|226068      0         0       3         2       0       0    \n",
       "chr2:29011523|29011675   0         0       0         0       0       2    \n",
       "chr2:102448182|102456456 0         0       0         0       2       0    "
      ]
     },
     "metadata": {},
     "output_type": "display_data"
    }
   ],
   "source": [
    "head(hansen_ciri_matrix)"
   ]
  },
  {
   "cell_type": "markdown",
   "metadata": {},
   "source": [
    "### <u>CIRCexplorer2</u>"
   ]
  },
  {
   "cell_type": "markdown",
   "metadata": {},
   "source": [
    "#### gCSI"
   ]
  },
  {
   "cell_type": "code",
   "execution_count": 157,
   "metadata": {},
   "outputs": [],
   "source": [
    "#keep only samples where no more than 35 samples (~70%) have 0 circRNA count for a given circRNA coordinate\n",
    "gcsi_circ_matrix_norm <- gcsi_circ_matrix_norm[rowSums(gcsi_circ_matrix_norm == 0) <= 35, ]"
   ]
  },
  {
   "cell_type": "code",
   "execution_count": 158,
   "metadata": {},
   "outputs": [],
   "source": [
    "#gCSI compute CI\n",
    "commonSamples <- intersect(colnames(gcsi_summarize),colnames(gcsi_circ_matrix_norm)) #only samples with drug sensitivity in gCSI\n",
    "gcsi_ci_result <- computeCI(circRNA_normalized_data=gcsi_circ_matrix_norm, sensitivity_data=gcsi_summarize, samples = commonSamples)"
   ]
  },
  {
   "cell_type": "code",
   "execution_count": 159,
   "metadata": {},
   "outputs": [],
   "source": [
    "#CCLE compute CI (circRNA samples not found in gCSI sensitivity)\n",
    "commonSamples <- intersect(colnames(ccle_summarize),colnames(gcsi_circ_matrix_norm)) #only samples with drug sensitivity in CCLE\n",
    "ccle_ci_result <- computeCI(circRNA_normalized_data=gcsi_circ_matrix_norm, sensitivity_data=ccle_summarize, samples = commonSamples)"
   ]
  },
  {
   "cell_type": "code",
   "execution_count": 160,
   "metadata": {},
   "outputs": [],
   "source": [
    "#GDSC compute CI (circRNA samples not found in gCSI sensitivity)\n",
    "commonSamples <- intersect(colnames(gdsc_summarize),colnames(gcsi_circ_matrix_norm)) #only samples with drug sensitivity in GDSC\n",
    "gdsc_ci_result <- computeCI(circRNA_normalized_data=gcsi_circ_matrix_norm, sensitivity_data=gdsc_summarize, samples = commonSamples)"
   ]
  },
  {
   "cell_type": "code",
   "execution_count": 161,
   "metadata": {},
   "outputs": [],
   "source": [
    "#CTRPv2 compute CI (circRNA samples not found in gCSI sensitivity)\n",
    "commonSamples <- intersect(colnames(ctrpv2_summarize),colnames(gcsi_circ_matrix_norm)) #only samples with drug sensitivity in GDSC\n",
    "ctrpv2_ci_result <- computeCI(circRNA_normalized_data=gcsi_circ_matrix_norm, sensitivity_data=ctrpv2_summarize, samples = commonSamples)"
   ]
  },
  {
   "cell_type": "code",
   "execution_count": 162,
   "metadata": {},
   "outputs": [],
   "source": [
    "#save all computed CI's\n",
    "save(gcsi_ci_result, file=\"CIRCexplorer2/gcsi_ci_result/gcsi_CI.RData\")\n",
    "save(ccle_ci_result, file=\"CIRCexplorer2/gcsi_ci_result/ccle_CI.RData\")\n",
    "save(gdsc_ci_result, file=\"CIRCexplorer2/gcsi_ci_result/gdsc_CI.RData\")\n",
    "save(ctrpv2_ci_result, file=\"CIRCexplorer2/gcsi_ci_result/ctrpv2_CI.RData\")"
   ]
  },
  {
   "cell_type": "markdown",
   "metadata": {},
   "source": [
    "#### CCLE"
   ]
  },
  {
   "cell_type": "code",
   "execution_count": 163,
   "metadata": {},
   "outputs": [],
   "source": [
    "#keep only samples where no more than 35 samples (~70%) have 0 circRNA count for a given circRNA coordinate\n",
    "ccle_circ_matrix_norm <- ccle_circ_matrix_norm[rowSums(ccle_circ_matrix_norm == 0) <= 35, ]"
   ]
  },
  {
   "cell_type": "code",
   "execution_count": 164,
   "metadata": {},
   "outputs": [],
   "source": [
    "#CCLE compute CI\n",
    "commonSamples <- intersect(colnames(ccle_summarize),colnames(ccle_circ_matrix_norm)) #only samples with drug sensitivity in CCLE\n",
    "ccle_ci_result <- computeCI(circRNA_normalized_data=ccle_circ_matrix_norm, sensitivity_data=ccle_summarize, samples = commonSamples)"
   ]
  },
  {
   "cell_type": "code",
   "execution_count": 165,
   "metadata": {},
   "outputs": [],
   "source": [
    "#gCSI compute CI (circRNA samples not found in CCLE sensitivity)\n",
    "commonSamples <- intersect(colnames(gcsi_summarize),colnames(ccle_circ_matrix_norm)) #only samples with drug sensitivity in gCSI\n",
    "gcsi_ci_result <- computeCI(circRNA_normalized_data=ccle_circ_matrix_norm, sensitivity_data=gcsi_summarize, samples = commonSamples)"
   ]
  },
  {
   "cell_type": "code",
   "execution_count": 166,
   "metadata": {},
   "outputs": [],
   "source": [
    "#GDSC compute CI (circRNA samples not found in CCLE sensitivity)\n",
    "commonSamples <- intersect(colnames(gdsc_summarize),colnames(ccle_circ_matrix_norm)) #only samples with drug sensitivity in GDSC\n",
    "gdsc_ci_result <- computeCI(circRNA_normalized_data=ccle_circ_matrix_norm, sensitivity_data=gdsc_summarize, samples = commonSamples)"
   ]
  },
  {
   "cell_type": "code",
   "execution_count": 168,
   "metadata": {},
   "outputs": [],
   "source": [
    "#CTRPv2 compute CI (circRNA samples not found in CCLE sensitivity)\n",
    "commonSamples <- intersect(colnames(ctrpv2_summarize),colnames(ccle_circ_matrix_norm)) #only samples with drug sensitivity in GDSC\n",
    "ctrpv2_ci_result <- computeCI(circRNA_normalized_data=ccle_circ_matrix_norm, sensitivity_data=ctrpv2_summarize, samples = commonSamples)"
   ]
  },
  {
   "cell_type": "code",
   "execution_count": 169,
   "metadata": {},
   "outputs": [],
   "source": [
    "#save all computed CI's\n",
    "save(gcsi_ci_result, file=\"CIRCexplorer2/ccle_ci_result/gcsi_CI.RData\")\n",
    "save(ccle_ci_result, file=\"CIRCexplorer2/ccle_ci_result/ccle_CI.RData\")\n",
    "save(gdsc_ci_result, file=\"CIRCexplorer2/ccle_ci_result/gdsc_CI.RData\")\n",
    "save(ctrpv2_ci_result, file=\"CIRCexplorer2/ccle_ci_result/ctrpv2_CI.RData\")"
   ]
  },
  {
   "cell_type": "markdown",
   "metadata": {},
   "source": [
    "#### GDSC"
   ]
  },
  {
   "cell_type": "code",
   "execution_count": 174,
   "metadata": {},
   "outputs": [],
   "source": [
    "#keep only samples where no more than 35 samples (~70%) have 0 circRNA count for a given circRNA coordinate\n",
    "gdsc_circ_matrix_norm <- gdsc_circ_matrix_norm[rowSums(gdsc_circ_matrix_norm == 0) <= 35, ]"
   ]
  },
  {
   "cell_type": "code",
   "execution_count": 175,
   "metadata": {},
   "outputs": [],
   "source": [
    "#GDSC compute CI\n",
    "commonSamples <- intersect(colnames(gdsc_summarize),colnames(gdsc_circ_matrix_norm)) #only samples with drug sensitivity in CCLE\n",
    "gdsc_ci_result <- computeCI(circRNA_normalized_data=gdsc_circ_matrix_norm, sensitivity_data=gdsc_summarize, samples = commonSamples)"
   ]
  },
  {
   "cell_type": "code",
   "execution_count": 176,
   "metadata": {},
   "outputs": [],
   "source": [
    "#CCLE compute CI (circRNA samples not found in GDSC sensitivity)\n",
    "commonSamples <- intersect(colnames(ccle_summarize),colnames(gdsc_circ_matrix_norm)) #only samples with drug sensitivity in CCLE\n",
    "ccle_ci_result <- computeCI(circRNA_normalized_data=gdsc_circ_matrix_norm, sensitivity_data=ccle_summarize, samples = commonSamples)"
   ]
  },
  {
   "cell_type": "code",
   "execution_count": 177,
   "metadata": {},
   "outputs": [],
   "source": [
    "#gCSI compute CI (circRNA samples not found in GDSC sensitivity)\n",
    "commonSamples <- intersect(colnames(gcsi_summarize),colnames(gdsc_circ_matrix_norm)) #only samples with drug sensitivity in gCSI\n",
    "gcsi_ci_result <- computeCI(circRNA_normalized_data=gdsc_circ_matrix_norm, sensitivity_data=gcsi_summarize, samples = commonSamples)"
   ]
  },
  {
   "cell_type": "code",
   "execution_count": 178,
   "metadata": {},
   "outputs": [],
   "source": [
    "#CTRPv2 compute CI (circRNA samples not found in GDSC sensitivity)\n",
    "commonSamples <- intersect(colnames(ctrpv2_summarize),colnames(gdsc_circ_matrix_norm)) #only samples with drug sensitivity in GDSC\n",
    "ctrpv2_ci_result <- computeCI(circRNA_normalized_data=gdsc_circ_matrix_norm, sensitivity_data=ctrpv2_summarize, samples = commonSamples)"
   ]
  },
  {
   "cell_type": "code",
   "execution_count": 179,
   "metadata": {},
   "outputs": [],
   "source": [
    "#save all computed CI's\n",
    "save(gcsi_ci_result, file=\"CIRCexplorer2/gdsc_ci_result/gcsi_CI.RData\")\n",
    "save(ccle_ci_result, file=\"CIRCexplorer2/gdsc_ci_result/ccle_CI.RData\")\n",
    "save(gdsc_ci_result, file=\"CIRCexplorer2/gdsc_ci_result/gdsc_CI.RData\")\n",
    "save(ctrpv2_ci_result, file=\"CIRCexplorer2/gdsc_ci_result/ctrpv2_CI.RData\")"
   ]
  },
  {
   "cell_type": "markdown",
   "metadata": {},
   "source": [
    "## </u>Identify significant circRNA-drug associations per dataset</u>"
   ]
  },
  {
   "cell_type": "markdown",
   "metadata": {},
   "source": [
    "#### gCSI"
   ]
  },
  {
   "cell_type": "code",
   "execution_count": 124,
   "metadata": {},
   "outputs": [],
   "source": [
    "#filters for CI > 0.5 and p-value < 0.05\n",
    "gcsi_ci_sig <- gcsi_ci_result[which(gcsi_ci_result$pvalue < 0.05 & gcsi_ci_result$ci > 0.5),]\n",
    "ccle_ci_sig <- ccle_ci_result[which(ccle_ci_result$pvalue < 0.05 & ccle_ci_result$ci > 0.5),]\n",
    "gdsc_ci_sig <- gdsc_ci_result[which(gdsc_ci_result$pvalue < 0.05 & gdsc_ci_result$ci > 0.5),]\n",
    "ctrpv2_ci_sig <- ctrpv2_ci_result[which(ctrpv2_ci_result$pvalue < 0.05 & ctrpv2_ci_result$ci > 0.5),]\n",
    "\n",
    "#assign unique.id for each circRNA_drug combination\n",
    "gcsi_ci_sig$id <- paste0(gcsi_ci_sig$circRNA,\"_\",gcsi_ci_sig$drug)\n",
    "ccle_ci_sig$id <- paste0(ccle_ci_sig$circRNA,\"_\",ccle_ci_sig$drug)\n",
    "gdsc_ci_sig$id <- paste0(gdsc_ci_sig$circRNA,\"_\",gdsc_ci_sig$drug)\n",
    "ctrpv2_ci_sig$id <- paste0(ctrpv2_ci_sig$circRNA,\"_\",ctrpv2_ci_sig$drug)\n",
    "\n",
    "#keep unique.id's in that are not in gCSI already\n",
    "ccle_ci_sig <- ccle_ci_sig[which(!ccle_ci_sig$id %in% gcsi_ci_sig$id),]\n",
    "gdsc_ci_sig <- gdsc_ci_sig[which(!gdsc_ci_sig$id %in% gcsi_ci_sig$id),]\n",
    "ctrpv2_ci_sig <- ctrpv2_ci_sig[which(!ctrpv2_ci_sig$id %in% gcsi_ci_sig$id),]\n",
    "\n",
    "#combined gCSI significant gene-drug associations (unique only)\n",
    "gcsi_ci_combined <- do.call(\"rbind\", list(gcsi_ci_sig, ccle_ci_sig, gdsc_ci_sig, ctrpv2_ci_sig))\n",
    "gcsi_ci_combined <- gcsi_ci_combined[!duplicated(gcsi_ci_combined[ , \"id\"]),]"
   ]
  },
  {
   "cell_type": "code",
   "execution_count": 125,
   "metadata": {},
   "outputs": [
    {
     "data": {
      "text/html": [
       "311"
      ],
      "text/latex": [
       "311"
      ],
      "text/markdown": [
       "311"
      ],
      "text/plain": [
       "[1] 311"
      ]
     },
     "metadata": {},
     "output_type": "display_data"
    }
   ],
   "source": [
    "#sort gene-drug associations by largest CI and smallest p-value\n",
    "gcsi_ci_combined_sort <- gcsi_ci_combined[order(gcsi_ci_combined$ci, rev(gcsi_ci_combined$pvalue), decreasing = TRUE), ]"
   ]
  },
  {
   "cell_type": "markdown",
   "metadata": {},
   "source": [
    "#### CCLE"
   ]
  },
  {
   "cell_type": "code",
   "execution_count": 87,
   "metadata": {},
   "outputs": [],
   "source": [
    "#filters for CI > 0.5 and p-value < 0.05\n",
    "gcsi_ci_sig <- gcsi_ci_result[which(gcsi_ci_result$pvalue < 0.05 & gcsi_ci_result$ci > 0.5),]\n",
    "ccle_ci_sig <- ccle_ci_result[which(ccle_ci_result$pvalue < 0.05 & ccle_ci_result$ci > 0.5),]\n",
    "gdsc_ci_sig <- gdsc_ci_result[which(gdsc_ci_result$pvalue < 0.05 & gdsc_ci_result$ci > 0.5),]\n",
    "ctrpv2_ci_sig <- ctrpv2_ci_result[which(ctrpv2_ci_result$pvalue < 0.05 & ctrpv2_ci_result$ci > 0.5),]\n",
    "\n",
    "#assign unique.id for each circRNA_drug combination\n",
    "gcsi_ci_sig$id <- paste0(gcsi_ci_sig$circRNA,\"_\",gcsi_ci_sig$drug)\n",
    "ccle_ci_sig$id <- paste0(ccle_ci_sig$circRNA,\"_\",ccle_ci_sig$drug)\n",
    "gdsc_ci_sig$id <- paste0(gdsc_ci_sig$circRNA,\"_\",gdsc_ci_sig$drug)\n",
    "ctrpv2_ci_sig$id <- paste0(ctrpv2_ci_sig$circRNA,\"_\",ctrpv2_ci_sig$drug)\n",
    "\n",
    "#keep unique.id's in that are not in CCLE already\n",
    "gcsi_ci_sig <- gcsi_ci_sig[which(!gcsi_ci_sig$id %in% ccle_ci_sig$id),]\n",
    "gdsc_ci_sig <- gdsc_ci_sig[which(!gdsc_ci_sig$id %in% ccle_ci_sig$id),]\n",
    "ctrpv2_ci_sig <- ctrpv2_ci_sig[which(!ctrpv2_ci_sig$id %in% ccle_ci_sig$id),]\n",
    "\n",
    "#combined gCSI significant gene-drug associations (unique only)\n",
    "ccle_ci_combined <- do.call(\"rbind\", list(gcsi_ci_sig, ccle_ci_sig, gdsc_ci_sig, ctrpv2_ci_sig))\n",
    "ccle_ci_combined <- ccle_ci_combined[!duplicated(ccle_ci_combined[ , \"id\"]),]"
   ]
  },
  {
   "cell_type": "code",
   "execution_count": 90,
   "metadata": {},
   "outputs": [],
   "source": [
    "#sort gene-drug associations by largest CI and smallest p-value\n",
    "ccle_ci_combined_sort <- ccle_ci_combined[order(ccle_ci_combined$ci, rev(ccle_ci_combined$pvalue), decreasing = TRUE), ]"
   ]
  },
  {
   "cell_type": "markdown",
   "metadata": {},
   "source": [
    "#### GDSC "
   ]
  },
  {
   "cell_type": "code",
   "execution_count": 110,
   "metadata": {},
   "outputs": [],
   "source": [
    "#filters for CI > 0.5 and p-value < 0.05\n",
    "gcsi_ci_sig <- gcsi_ci_result[which(gcsi_ci_result$pvalue < 0.05 & gcsi_ci_result$ci > 0.5),]\n",
    "ccle_ci_sig <- ccle_ci_result[which(ccle_ci_result$pvalue < 0.05 & ccle_ci_result$ci > 0.5),]\n",
    "gdsc_ci_sig <- gdsc_ci_result[which(gdsc_ci_result$pvalue < 0.05 & gdsc_ci_result$ci > 0.5),]\n",
    "ctrpv2_ci_sig <- ctrpv2_ci_result[which(ctrpv2_ci_result$pvalue < 0.05 & ctrpv2_ci_result$ci > 0.5),]\n",
    "\n",
    "#assign unique.id for each circRNA_drug combination\n",
    "gcsi_ci_sig$id <- paste0(gcsi_ci_sig$circRNA,\"_\",gcsi_ci_sig$drug)\n",
    "ccle_ci_sig$id <- paste0(ccle_ci_sig$circRNA,\"_\",ccle_ci_sig$drug)\n",
    "gdsc_ci_sig$id <- paste0(gdsc_ci_sig$circRNA,\"_\",gdsc_ci_sig$drug)\n",
    "ctrpv2_ci_sig$id <- paste0(ctrpv2_ci_sig$circRNA,\"_\",ctrpv2_ci_sig$drug)\n",
    "\n",
    "#keep unique.id's in that are not in CCLE already\n",
    "gcsi_ci_sig <- gcsi_ci_sig[which(!gcsi_ci_sig$id %in% gdsc_ci_sig$id),]\n",
    "ccle_ci_sig <- ccle_ci_sig[which(!ccle_ci_sig$id %in% gdsc_ci_sig$id),]\n",
    "ctrpv2_ci_sig <- ctrpv2_ci_sig[which(!ctrpv2_ci_sig$id %in% gdsc_ci_sig$id),]\n",
    "\n",
    "#combined gCSI significant gene-drug associations (unique only)\n",
    "gdsc_ci_combined <- do.call(\"rbind\", list(gcsi_ci_sig, ccle_ci_sig, gdsc_ci_sig, ctrpv2_ci_sig))\n",
    "gdsc_ci_combined <- gdsc_ci_combined[!duplicated(gdsc_ci_combined[ , \"id\"]),]"
   ]
  },
  {
   "cell_type": "code",
   "execution_count": null,
   "metadata": {},
   "outputs": [],
   "source": [
    "#sort gene-drug associations by largest CI and smallest p-value\n",
    "gdsc_ci_combined_sort <- gdsc_ci_combined[order(gdsc_ci_combined$ci, rev(gdsc_ci_combined$pvalue), decreasing = TRUE), ]"
   ]
  }
 ],
 "metadata": {
  "kernelspec": {
   "display_name": "R",
   "language": "R",
   "name": "ir"
  },
  "language_info": {
   "codemirror_mode": "r",
   "file_extension": ".r",
   "mimetype": "text/x-r-source",
   "name": "R",
   "pygments_lexer": "r",
   "version": "4.0.0"
  }
 },
 "nbformat": 4,
 "nbformat_minor": 4
}
