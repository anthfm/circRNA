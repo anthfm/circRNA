{
 "cells": [
  {
   "cell_type": "code",
   "execution_count": 5,
   "metadata": {},
   "outputs": [],
   "source": [
    "library(ggplot2, quietly = TRUE)\n",
    "library(reshape2, quietly = TRUE)\n",
    "library(plotly, quietly = TRUE)"
   ]
  },
  {
   "cell_type": "code",
   "execution_count": 3,
   "metadata": {},
   "outputs": [],
   "source": [
    "options(stringsAsFactors = F)\n",
    "\n",
    "matchToIDTable <- function(ids,tbl, column, returnColumn=\"unique.cellid\") {\n",
    "  sapply(ids, function(x) {\n",
    "    myx <- grep(paste0(\"((///)|^)\",Hmisc::escapeRegex(x),\"((///)|$)\"), tbl[,column])\n",
    "    if(length(myx) > 1){\n",
    "      stop(\"Something went wrong in curating ids, we have multiple matches\")\n",
    "    }\n",
    "    if(length(myx) == 0){return(NA_character_)}\n",
    "    return(tbl[myx, returnColumn])\n",
    "  })\n",
    "}"
   ]
  },
  {
   "cell_type": "markdown",
   "metadata": {},
   "source": [
    "## Determine replicates across datasets (gCSI, CCLE, GDSC)"
   ]
  },
  {
   "cell_type": "code",
   "execution_count": 7,
   "metadata": {},
   "outputs": [],
   "source": [
    "##read in current cell annotations\n",
    "cell_all <- read.csv(file = \"rnaseq_meta/cell_annotation_all.csv\", na.strings=c(\"\", \" \", \"NA\"))"
   ]
  },
  {
   "cell_type": "code",
   "execution_count": 8,
   "metadata": {},
   "outputs": [],
   "source": [
    "#read in gcsi cell annotations\n",
    "gcsi <- read.csv(file = \"rnaseq_meta/gcsi_rnaseq_meta.csv\")\n",
    "gcsi$cellid <- matchToIDTable(ids=gcsi$Cell_line , tbl = cell_all, column = \"GNE.cellid\", returnColumn = \"unique.cellid\")\n",
    "rownames(gcsi) <- gcsi$alias\n",
    "\n",
    "#read in ccle cell annotations\n",
    "ccle <- read.csv(file = \"rnaseq_meta/ccle_rnaseq_meta.csv\")\n",
    "ccle$cellid <- matchToIDTable(ids=ccle$Cell_Line , tbl = cell_all, column = \"CCLE.cellid\", returnColumn = \"unique.cellid\")\n",
    "rownames(ccle) <- ccle$Run\n",
    "\n",
    "#read in gdsc cell annotations\n",
    "gdsc <- read.csv(file = \"rnaseq_meta/gdsc_rnaseq_meta.txt\", sep = \"\\t\")\n",
    "gdsc <- gdsc[which(!gdsc$Comment.SUBMITTED_FILE_NAME. == \"15552_5.cram\"),]\n",
    "gdsc$cellid <- matchToIDTable(ids=gdsc$Source.Name, tbl = cell_all, column = \"GDSC_rnaseq.cellid\", returnColumn = \"unique.cellid\")\n",
    "gdsc$files <- gsub(\".cram\",\"\",gdsc$Comment.SUBMITTED_FILE_NAME.)\n",
    "rownames(gdsc) <- gdsc$files"
   ]
  },
  {
   "cell_type": "code",
   "execution_count": 10,
   "metadata": {
    "scrolled": true
   },
   "outputs": [
    {
     "name": "stdout",
     "output_type": "stream",
     "text": [
      " [1] \"A-427\"      \"C2BBe1\"     \"CL-40\"      \"COLO 741\"   \"DU145\"     \n",
      " [6] \"HCC1187\"    \"HCC1806\"    \"HCT 116\"    \"HCT 15\"     \"HeLa\"      \n",
      "[11] \"HT115\"      \"HT-29\"      \"HT-55\"      \"Karpas-620\" \"KNS-62\"    \n",
      "[16] \"Ku812\"      \"LS180\"      \"MDA-MB-361\" \"MDST8\"      \"NCI-H510A\" \n",
      "[21] \"SNU-1\"      \"SNU-16\"     \"OVKATE\"     \"RKO\"        \"SET-2\"     \n",
      "[26] \"SiHa\"       \"Rh30\"       \"SK-N-SH\"    \"SNU-C1\"     \"SR\"        \n",
      "[31] \"SU-DHL-10\"  \"SU-DHL-5\"   \"SU-DHL-6\"   \"SUIT-2\"     \"SW1116\"    \n",
      "[36] \"SW1463\"     \"SW1573\"     \"SW403\"      \"SW48\"       \"SW620\"     \n",
      "[41] \"SW780\"      \"SW837\"      \"SW948\"      \"U266B1\"     \"UACC-812\"  \n",
      "[46] \"WSU-DLCL2\"  \"YAPC\"       \"ZR-75-30\"  \n"
     ]
    }
   ],
   "source": [
    "#filter metadata -> keep intersected cell lines only\n",
    "intersected_rnacells <- Reduce(intersect, list(gdsc$cellid, ccle$cellid, gcsi$cellid))\n",
    "\n",
    "gcsi <- gcsi[which(gcsi$cellid %in% intersected_rnacells),]\n",
    "ccle <- ccle[which(ccle$cellid %in% intersected_rnacells),]\n",
    "gdsc <- gdsc[which(gdsc$cellid %in% intersected_rnacells),]\n",
    "\n",
    "print(intersected_rnacells) #replicates"
   ]
  },
  {
   "cell_type": "markdown",
   "metadata": {},
   "source": [
    "## Summarize circRNA counts (CIRI2)"
   ]
  },
  {
   "cell_type": "code",
   "execution_count": 12,
   "metadata": {},
   "outputs": [],
   "source": [
    "#function reads in CIRI2 output, and summarizes # of junction reads for each sample (>= 2 junction reads kept only)\n",
    "summarizeCIRI <- function(dir_path){\n",
    "  \n",
    "  ciri_files <- list.files(path=dir_path,  pattern = \"\\\\.tsv$\", full.names = T)\n",
    "  circ_counts_df <- data.frame(matrix(ncol=2, nrow = length(ciri_files)))\n",
    "  colnames(circ_counts_df) <- c(\"sample\", \"count\")\n",
    "  for (f in 1:length(ciri_files)) {\n",
    "    sample <- read.table(file = ciri_files[f], \n",
    "                         sep = '\\t', \n",
    "                         skip = 1,\n",
    "                         header = FALSE)\n",
    "    \n",
    "    colnames(sample) <- c(\"circRNA_ID\",\"chr\",\"circRNA_start\",\"circRNA_end\",\"junction_reads\", \"SM_MS_SMS\", \"non_junction_reads\", \"junction_reads_ratio\", \"circRNA_type\", \"gene_id\", \"strand\",\"junction_reads_ID\")\n",
    "    sample_name <- gsub(\"\\\\..*\",\"\", ciri_files[f])\n",
    "    sample_name <- gsub(\".*/\",\"\", sample_name)    \n",
    "    sample <- sample[which(sample$circRNA_type==\"exon\"),]\n",
    "    sample <- sample[which(sample$junction_reads >= 2),]\n",
    "    count <- sum(sample$junction_reads)\n",
    "    circ_counts_df[f,] <- c(sample_name,count)\n",
    "  }\n",
    "  return(circ_counts_df)\n",
    "} "
   ]
  },
  {
   "cell_type": "code",
   "execution_count": 69,
   "metadata": {},
   "outputs": [],
   "source": [
    "gcsi_ciri_counts <- summarizeCIRI(dir_path = \"results/CIRI2/gCSI/result\")\n",
    "ccle_ciri_counts <- summarizeCIRI(dir_path = \"results/CIRI2/CCLE/result\")\n",
    "gdsc_ciri_counts <- summarizeCIRI(dir_path = \"results/CIRI2/GDSC/result\")\n",
    "hansen_ciri_counts <- summarizeCIRI(dir_path = \"results/CIRI2/hansen/result\") #both Ribo-zero + RNAse-R\n",
    "hansen_ciri_matched <- summarizeCIRI(dir_path = \"results/CIRI2/hansen_match/result\") #poly-A equivalent to Hansen data\n",
    "gdsc_ribozero_ciri_counts <- summarizeCIRI(dir_path = \"results/CIRI2/GDSC_Ribo/result\") #GDSC Ribo-Zero samples (HCT-116, HeLa)"
   ]
  },
  {
   "cell_type": "code",
   "execution_count": 70,
   "metadata": {},
   "outputs": [],
   "source": [
    "#clean up sample names (remove 'gcsi' & 'gdsc' strings from samples)\n",
    "gcsi_ciri_counts$sample <- gsub(\"gcsi\", \"\", gcsi_ciri_counts$sample)\n",
    "gdsc_ciri_counts$sample <- gsub(\"gdsc\", \"\", gdsc_ciri_counts$sample)\n",
    "\n",
    "rownames(gcsi_ciri_counts) <- gcsi_ciri_counts$sample\n",
    "rownames(ccle_ciri_counts) <- ccle_ciri_counts$sample\n",
    "rownames(gdsc_ciri_counts) <- gdsc_ciri_counts$sample\n",
    "\n",
    "gdsc_ribozero_ciri_counts$sample <- c(\"HCT 116\",\"HeLa\")\n",
    "rownames(gdsc_ribozero_ciri_counts) <- gdsc_ribozero_ciri_counts$sample\n",
    "\n",
    "#average SR technical replicate circRNA count in gCSI\n",
    "gcsi_ciri_counts$cellid <- gcsi$cellid[match(rownames(gcsi_ciri_counts), rownames(gcsi))]\n",
    "gcsi_SR_mean <- mean(as.numeric(gcsi_ciri_counts$count[which(gcsi_ciri_counts$cellid==\"SR\")]))\n",
    "gcsi_ciri_counts[which(gcsi_ciri_counts$cellid==\"SR\"),][2,\"count\"] <- gcsi_SR_mean\n",
    "gcsi_ciri_counts <- gcsi_ciri_counts[-which(gcsi_ciri_counts$sample==\"587641\"),]\n",
    "\n",
    "#get unique.cellids for samples + order CCLE & GDSC, GDSC-Ribo unique.cellid by gCSI unique.cellid\n",
    "ccle_ciri_counts$cellid <- ccle$cellid[match(rownames(ccle_ciri_counts), rownames(ccle))]\n",
    "ccle_ciri_counts <- ccle_ciri_counts[match(gcsi_ciri_counts$cellid, ccle_ciri_counts$cellid),]\n",
    "\n",
    "gdsc_ciri_counts$cellid <- gdsc$cellid[match(rownames(gdsc_ciri_counts), rownames(gdsc))]\n",
    "gdsc_ciri_counts <- gdsc_ciri_counts[match(gcsi_ciri_counts$cellid, gdsc_ciri_counts$cellid),]\n",
    "\n",
    "gdsc_ribozero_ciri_counts <- gdsc_ribozero_ciri_counts[match(gcsi_ciri_counts$cellid,rownames(gdsc_ribozero_ciri_counts)),]"
   ]
  },
  {
   "cell_type": "code",
   "execution_count": 91,
   "metadata": {},
   "outputs": [
    {
     "data": {
      "text/html": [
       "<table>\n",
       "<caption>A data.frame: 6 × 4</caption>\n",
       "<thead>\n",
       "\t<tr><th></th><th scope=col>gCSI</th><th scope=col>CCLE</th><th scope=col>GDSC</th><th scope=col>GDSC-Ribo</th></tr>\n",
       "\t<tr><th></th><th scope=col>&lt;dbl&gt;</th><th scope=col>&lt;dbl&gt;</th><th scope=col>&lt;dbl&gt;</th><th scope=col>&lt;dbl&gt;</th></tr>\n",
       "</thead>\n",
       "<tbody>\n",
       "\t<tr><th scope=row>SNU-1</th><td>200</td><td>694</td><td>3881</td><td>NA</td></tr>\n",
       "\t<tr><th scope=row>SNU-16</th><td>385</td><td>355</td><td>2615</td><td>NA</td></tr>\n",
       "\t<tr><th scope=row>HCC1187</th><td>512</td><td>969</td><td>1064</td><td>NA</td></tr>\n",
       "\t<tr><th scope=row>HCC1806</th><td>898</td><td>706</td><td> 425</td><td>NA</td></tr>\n",
       "\t<tr><th scope=row>UACC-812</th><td> 57</td><td>700</td><td>2352</td><td>NA</td></tr>\n",
       "\t<tr><th scope=row>ZR-75-30</th><td> 53</td><td>524</td><td> 181</td><td>NA</td></tr>\n",
       "</tbody>\n",
       "</table>\n"
      ],
      "text/latex": [
       "A data.frame: 6 × 4\n",
       "\\begin{tabular}{r|llll}\n",
       "  & gCSI & CCLE & GDSC & GDSC-Ribo\\\\\n",
       "  & <dbl> & <dbl> & <dbl> & <dbl>\\\\\n",
       "\\hline\n",
       "\tSNU-1 & 200 & 694 & 3881 & NA\\\\\n",
       "\tSNU-16 & 385 & 355 & 2615 & NA\\\\\n",
       "\tHCC1187 & 512 & 969 & 1064 & NA\\\\\n",
       "\tHCC1806 & 898 & 706 &  425 & NA\\\\\n",
       "\tUACC-812 &  57 & 700 & 2352 & NA\\\\\n",
       "\tZR-75-30 &  53 & 524 &  181 & NA\\\\\n",
       "\\end{tabular}\n"
      ],
      "text/markdown": [
       "\n",
       "A data.frame: 6 × 4\n",
       "\n",
       "| <!--/--> | gCSI &lt;dbl&gt; | CCLE &lt;dbl&gt; | GDSC &lt;dbl&gt; | GDSC-Ribo &lt;dbl&gt; |\n",
       "|---|---|---|---|---|\n",
       "| SNU-1 | 200 | 694 | 3881 | NA |\n",
       "| SNU-16 | 385 | 355 | 2615 | NA |\n",
       "| HCC1187 | 512 | 969 | 1064 | NA |\n",
       "| HCC1806 | 898 | 706 |  425 | NA |\n",
       "| UACC-812 |  57 | 700 | 2352 | NA |\n",
       "| ZR-75-30 |  53 | 524 |  181 | NA |\n",
       "\n"
      ],
      "text/plain": [
       "         gCSI CCLE GDSC GDSC-Ribo\n",
       "SNU-1    200  694  3881 NA       \n",
       "SNU-16   385  355  2615 NA       \n",
       "HCC1187  512  969  1064 NA       \n",
       "HCC1806  898  706   425 NA       \n",
       "UACC-812  57  700  2352 NA       \n",
       "ZR-75-30  53  524   181 NA       "
      ]
     },
     "metadata": {},
     "output_type": "display_data"
    }
   ],
   "source": [
    "#create combined dataframe of CIRI2 counts for each replicate across gCSI, CCLE, GDSC\n",
    "ciri_combined <- data.frame(\"gcsi\"=as.numeric(gcsi_ciri_counts$count), \n",
    "                            \"ccle\"=as.numeric(ccle_ciri_counts$count), \n",
    "                            \"gdsc\"=as.numeric(gdsc_ciri_counts$count),\n",
    "                            \"gdsc-ribo\"=as.numeric(gdsc_ribozero_ciri_counts$count))\n",
    "\n",
    "rownames(ciri_combined) <- gcsi_ciri_counts$cellid\n",
    "colnames(ciri_combined) <- c(\"gCSI\",\"CCLE\",\"GDSC\",\"GDSC-Ribo\")\n",
    "\n",
    "head(ciri_combined)"
   ]
  },
  {
   "cell_type": "code",
   "execution_count": 24,
   "metadata": {},
   "outputs": [
    {
     "data": {
      "text/html": [
       "<table>\n",
       "<caption>A data.frame: 6 × 2</caption>\n",
       "<thead>\n",
       "\t<tr><th scope=col>sample</th><th scope=col>count</th></tr>\n",
       "\t<tr><th scope=col>&lt;chr&gt;</th><th scope=col>&lt;chr&gt;</th></tr>\n",
       "</thead>\n",
       "<tbody>\n",
       "\t<tr><td>22Rv1neg</td><td>4797  </td></tr>\n",
       "\t<tr><td>22Rv1pos</td><td>106052</td></tr>\n",
       "\t<tr><td>LNCaPneg</td><td>10579 </td></tr>\n",
       "\t<tr><td>LNCaPpos</td><td>108949</td></tr>\n",
       "\t<tr><td>PC3neg  </td><td>10413 </td></tr>\n",
       "\t<tr><td>PC3pos  </td><td>125466</td></tr>\n",
       "</tbody>\n",
       "</table>\n"
      ],
      "text/latex": [
       "A data.frame: 6 × 2\n",
       "\\begin{tabular}{ll}\n",
       " sample & count\\\\\n",
       " <chr> & <chr>\\\\\n",
       "\\hline\n",
       "\t 22Rv1neg & 4797  \\\\\n",
       "\t 22Rv1pos & 106052\\\\\n",
       "\t LNCaPneg & 10579 \\\\\n",
       "\t LNCaPpos & 108949\\\\\n",
       "\t PC3neg   & 10413 \\\\\n",
       "\t PC3pos   & 125466\\\\\n",
       "\\end{tabular}\n"
      ],
      "text/markdown": [
       "\n",
       "A data.frame: 6 × 2\n",
       "\n",
       "| sample &lt;chr&gt; | count &lt;chr&gt; |\n",
       "|---|---|\n",
       "| 22Rv1neg | 4797   |\n",
       "| 22Rv1pos | 106052 |\n",
       "| LNCaPneg | 10579  |\n",
       "| LNCaPpos | 108949 |\n",
       "| PC3neg   | 10413  |\n",
       "| PC3pos   | 125466 |\n",
       "\n"
      ],
      "text/plain": [
       "  sample   count \n",
       "1 22Rv1neg 4797  \n",
       "2 22Rv1pos 106052\n",
       "3 LNCaPneg 10579 \n",
       "4 LNCaPpos 108949\n",
       "5 PC3neg   10413 \n",
       "6 PC3pos   125466"
      ]
     },
     "metadata": {},
     "output_type": "display_data"
    }
   ],
   "source": [
    "hansen_ciri_counts"
   ]
  },
  {
   "cell_type": "code",
   "execution_count": 25,
   "metadata": {},
   "outputs": [
    {
     "data": {
      "text/html": [
       "<table>\n",
       "<caption>A data.frame: 4 × 2</caption>\n",
       "<thead>\n",
       "\t<tr><th scope=col>sample</th><th scope=col>count</th></tr>\n",
       "\t<tr><th scope=col>&lt;chr&gt;</th><th scope=col>&lt;chr&gt;</th></tr>\n",
       "</thead>\n",
       "<tbody>\n",
       "\t<tr><td>22Rv1ccle</td><td>677</td></tr>\n",
       "\t<tr><td>LNCaPccle</td><td>362</td></tr>\n",
       "\t<tr><td>PC3ccle  </td><td>417</td></tr>\n",
       "\t<tr><td>PC3gcsi  </td><td>458</td></tr>\n",
       "</tbody>\n",
       "</table>\n"
      ],
      "text/latex": [
       "A data.frame: 4 × 2\n",
       "\\begin{tabular}{ll}\n",
       " sample & count\\\\\n",
       " <chr> & <chr>\\\\\n",
       "\\hline\n",
       "\t 22Rv1ccle & 677\\\\\n",
       "\t LNCaPccle & 362\\\\\n",
       "\t PC3ccle   & 417\\\\\n",
       "\t PC3gcsi   & 458\\\\\n",
       "\\end{tabular}\n"
      ],
      "text/markdown": [
       "\n",
       "A data.frame: 4 × 2\n",
       "\n",
       "| sample &lt;chr&gt; | count &lt;chr&gt; |\n",
       "|---|---|\n",
       "| 22Rv1ccle | 677 |\n",
       "| LNCaPccle | 362 |\n",
       "| PC3ccle   | 417 |\n",
       "| PC3gcsi   | 458 |\n",
       "\n"
      ],
      "text/plain": [
       "  sample    count\n",
       "1 22Rv1ccle 677  \n",
       "2 LNCaPccle 362  \n",
       "3 PC3ccle   417  \n",
       "4 PC3gcsi   458  "
      ]
     },
     "metadata": {},
     "output_type": "display_data"
    }
   ],
   "source": [
    "hansen_ciri_matched"
   ]
  },
  {
   "cell_type": "markdown",
   "metadata": {},
   "source": [
    "## Summarize circRNA counts (CIRCexplorer2)"
   ]
  },
  {
   "cell_type": "code",
   "execution_count": 26,
   "metadata": {},
   "outputs": [],
   "source": [
    "#function reads in CIRCexplorer2 output, and summarizes # of junction reads for each sample (>= 2 junction reads kept only)\n",
    "summarizeCIRCexplorer <- function(dir_path){\n",
    "  \n",
    "  circ_files <- list.files(path=dir_path,  pattern = \".txt\", full.names = TRUE, recursive = TRUE)\n",
    "  circ_counts_df <- data.frame(matrix(ncol=2, nrow = length(circ_files)))\n",
    "  colnames(circ_counts_df) <- c(\"sample\", \"count\")\n",
    "  for (f in 1:length(circ_files)) {\n",
    "    sample <- read.table(file = circ_files[f], \n",
    "                         sep = '\\t',\n",
    "                         header = FALSE)\n",
    "    \n",
    "    colnames(sample) <- c(\"chrom\",\"start\",\"end\", \"name\",\"score\",\"strand\",\"thickStart\",\"thickEnd\",\"itemRgb\",\"exonCount\",\"exonSizes\", \"exonOffsets\", \"readNumber\", \"circType\", \"geneName\", \"isoformName\", \"index\", \"flankIntron\")\n",
    "\n",
    "    sample_name <- sub(\".*/ *(.*?) *.txt.*\", \"\\\\1\", circ_files[f])\n",
    "    sample <- sample[which(sample$circType==\"circRNA\"),]\n",
    "    sample <- sample[which(sample$readNumber >= 2),]\n",
    "    count <- sum(sample$readNumber)\n",
    "    circ_counts_df[f,] <- c(sample_name,count)\n",
    "  }\n",
    "  return(circ_counts_df)\n",
    "} "
   ]
  },
  {
   "cell_type": "code",
   "execution_count": 86,
   "metadata": {},
   "outputs": [],
   "source": [
    "gcsi_circ_counts <- summarizeCIRCexplorer(dir_path = \"results/CIRCexplorer2/gCSI/unmapped_method/annotate\")\n",
    "ccle_circ_counts <- summarizeCIRCexplorer(dir_path = \"results/CIRCexplorer2/CCLE/unmapped_method/annotate\")\n",
    "gdsc_circ_counts <- summarizeCIRCexplorer(dir_path = \"results/CIRCexplorer2/GDSC/unmapped_method/annotate\")\n",
    "hansen_circ_counts <- summarizeCIRCexplorer(dir_path = \"results/CIRCexplorer2/hansen/annotate\") #both Ribo-zero + RNAse-R\n",
    "hansen_circ_matched <- summarizeCIRCexplorer(dir_path = \"results/CIRCexplorer2/hansen_match/annotate\") #poly-A equivalent to Hansen data\n",
    "gdsc_ribozero_circ_counts <- summarizeCIRCexplorer(dir_path = \"results/CIRCexplorer2/GDSC_Ribo/annotate\") #GDSC Ribo-Zero samples (HCT-116, HeLa)\n"
   ]
  },
  {
   "cell_type": "code",
   "execution_count": 87,
   "metadata": {},
   "outputs": [],
   "source": [
    "#clean up sample names (remove 'gcsi' & 'gdsc' strings from samples)\n",
    "gcsi_circ_counts$sample <- sub(\".*gcsi *(.*?) *_.*\", \"\\\\1\", gcsi_circ_counts$sample)\n",
    "rownames(gcsi_circ_counts) <- gcsi_circ_counts$sample\n",
    "\n",
    "ccle_circ_counts$sample <- sub(\"* *(.*?) *_circular.*\", \"\\\\1\", ccle_circ_counts$sample)\n",
    "rownames(ccle_circ_counts) <- ccle_circ_counts$sample\n",
    "\n",
    "gdsc_circ_counts$sample <- sub(\".*gdsc *(.*?) *_circular.*\", \"\\\\1\", gdsc_circ_counts$sample)\n",
    "rownames(gdsc_circ_counts) <- gdsc_circ_counts$sample\n",
    "\n",
    "gdsc_ribozero_circ_counts$sample <- c(\"HCT 116\",\"HeLa\")\n",
    "rownames(gdsc_ribozero_circ_counts) <- gdsc_ribozero_circ_counts$sample\n",
    "\n",
    "#average SR technical replicate circRNA count in gCSI\n",
    "gcsi_circ_counts$cellid <- gcsi$cellid[match(rownames(gcsi_circ_counts), rownames(gcsi))]\n",
    "gcsi_SR_mean <- mean(as.numeric(gcsi_circ_counts$count[which(gcsi_circ_counts$cellid==\"SR\")]))\n",
    "gcsi_circ_counts[which(gcsi_circ_counts$cellid==\"SR\"),][2,\"count\"] <- gcsi_SR_mean\n",
    "gcsi_circ_counts <- gcsi_circ_counts[-which(gcsi_circ_counts$sample==\"587641\"),]\n",
    "\n",
    "#get unique.cellids for samples + order CCLE & GDSC & GDSC-ribo unique.cellid by gCSI unique.cellid\n",
    "ccle_circ_counts$cellid <- ccle$cellid[match(rownames(ccle_circ_counts), rownames(ccle))]\n",
    "ccle_circ_counts <- ccle_circ_counts[match(gcsi_circ_counts$cellid, ccle_circ_counts$cellid),]\n",
    "\n",
    "gdsc_circ_counts$cellid <- gdsc$cellid[match(rownames(gdsc_circ_counts), rownames(gdsc))]\n",
    "gdsc_circ_counts <- gdsc_circ_counts[match(gcsi_circ_counts$cellid, gdsc_circ_counts$cellid),]\n",
    "\n",
    "gdsc_ribozero_circ_counts <- gdsc_ribozero_circ_counts[match(gcsi_circ_counts$cellid,rownames(gdsc_ribozero_circ_counts)),]"
   ]
  },
  {
   "cell_type": "code",
   "execution_count": 92,
   "metadata": {},
   "outputs": [
    {
     "data": {
      "text/html": [
       "<table>\n",
       "<caption>A data.frame: 6 × 4</caption>\n",
       "<thead>\n",
       "\t<tr><th></th><th scope=col>gCSI</th><th scope=col>CCLE</th><th scope=col>GDSC</th><th scope=col>GDSC-Ribo</th></tr>\n",
       "\t<tr><th></th><th scope=col>&lt;dbl&gt;</th><th scope=col>&lt;dbl&gt;</th><th scope=col>&lt;dbl&gt;</th><th scope=col>&lt;dbl&gt;</th></tr>\n",
       "</thead>\n",
       "<tbody>\n",
       "\t<tr><th scope=row>SNU-1</th><td>255</td><td> 741</td><td>3766</td><td>NA</td></tr>\n",
       "\t<tr><th scope=row>SNU-16</th><td>341</td><td> 859</td><td>2586</td><td>NA</td></tr>\n",
       "\t<tr><th scope=row>HCC1187</th><td>857</td><td>1176</td><td>1837</td><td>NA</td></tr>\n",
       "\t<tr><th scope=row>HCC1806</th><td>525</td><td> 502</td><td> 457</td><td>NA</td></tr>\n",
       "\t<tr><th scope=row>UACC-812</th><td> 15</td><td> 319</td><td>2288</td><td>NA</td></tr>\n",
       "\t<tr><th scope=row>ZR-75-30</th><td> 30</td><td> 323</td><td>  69</td><td>NA</td></tr>\n",
       "</tbody>\n",
       "</table>\n"
      ],
      "text/latex": [
       "A data.frame: 6 × 4\n",
       "\\begin{tabular}{r|llll}\n",
       "  & gCSI & CCLE & GDSC & GDSC-Ribo\\\\\n",
       "  & <dbl> & <dbl> & <dbl> & <dbl>\\\\\n",
       "\\hline\n",
       "\tSNU-1 & 255 &  741 & 3766 & NA\\\\\n",
       "\tSNU-16 & 341 &  859 & 2586 & NA\\\\\n",
       "\tHCC1187 & 857 & 1176 & 1837 & NA\\\\\n",
       "\tHCC1806 & 525 &  502 &  457 & NA\\\\\n",
       "\tUACC-812 &  15 &  319 & 2288 & NA\\\\\n",
       "\tZR-75-30 &  30 &  323 &   69 & NA\\\\\n",
       "\\end{tabular}\n"
      ],
      "text/markdown": [
       "\n",
       "A data.frame: 6 × 4\n",
       "\n",
       "| <!--/--> | gCSI &lt;dbl&gt; | CCLE &lt;dbl&gt; | GDSC &lt;dbl&gt; | GDSC-Ribo &lt;dbl&gt; |\n",
       "|---|---|---|---|---|\n",
       "| SNU-1 | 255 |  741 | 3766 | NA |\n",
       "| SNU-16 | 341 |  859 | 2586 | NA |\n",
       "| HCC1187 | 857 | 1176 | 1837 | NA |\n",
       "| HCC1806 | 525 |  502 |  457 | NA |\n",
       "| UACC-812 |  15 |  319 | 2288 | NA |\n",
       "| ZR-75-30 |  30 |  323 |   69 | NA |\n",
       "\n"
      ],
      "text/plain": [
       "         gCSI CCLE GDSC GDSC-Ribo\n",
       "SNU-1    255   741 3766 NA       \n",
       "SNU-16   341   859 2586 NA       \n",
       "HCC1187  857  1176 1837 NA       \n",
       "HCC1806  525   502  457 NA       \n",
       "UACC-812  15   319 2288 NA       \n",
       "ZR-75-30  30   323   69 NA       "
      ]
     },
     "metadata": {},
     "output_type": "display_data"
    }
   ],
   "source": [
    "#create combined dataframe of CIRCexplorer counts for each replicate across gCSI, CCLE, GDSC\n",
    "circ_combined <- data.frame(\"gcsi\"=as.numeric(gcsi_circ_counts$count), \n",
    "                            \"ccle\"=as.numeric(ccle_circ_counts$count), \n",
    "                            \"gdsc\"=as.numeric(gdsc_circ_counts$count),\n",
    "                            \"gdsc-ribo\"=as.numeric(gdsc_ribozero_circ_counts$count))\n",
    "rownames(circ_combined) <- gcsi_circ_counts$cellid\n",
    "colnames(circ_combined) <- c(\"gCSI\",\"CCLE\",\"GDSC\",\"GDSC-Ribo\")\n",
    "\n",
    "head(circ_combined)"
   ]
  },
  {
   "cell_type": "code",
   "execution_count": 30,
   "metadata": {
    "scrolled": true
   },
   "outputs": [
    {
     "data": {
      "text/html": [
       "<table>\n",
       "<caption>A data.frame: 6 × 2</caption>\n",
       "<thead>\n",
       "\t<tr><th scope=col>sample</th><th scope=col>count</th></tr>\n",
       "\t<tr><th scope=col>&lt;chr&gt;</th><th scope=col>&lt;chr&gt;</th></tr>\n",
       "</thead>\n",
       "<tbody>\n",
       "\t<tr><td>22Rv1neg_circularRNA_known</td><td>9034  </td></tr>\n",
       "\t<tr><td>22Rv1pos_circularRNA_known</td><td>128429</td></tr>\n",
       "\t<tr><td>LNCaPneg_circularRNA_known</td><td>12658 </td></tr>\n",
       "\t<tr><td>LNCaPpos_circularRNA_known</td><td>123892</td></tr>\n",
       "\t<tr><td>PC3neg_circularRNA_known  </td><td>14022 </td></tr>\n",
       "\t<tr><td>PC3pos_circularRNA_known  </td><td>142643</td></tr>\n",
       "</tbody>\n",
       "</table>\n"
      ],
      "text/latex": [
       "A data.frame: 6 × 2\n",
       "\\begin{tabular}{ll}\n",
       " sample & count\\\\\n",
       " <chr> & <chr>\\\\\n",
       "\\hline\n",
       "\t 22Rv1neg\\_circularRNA\\_known & 9034  \\\\\n",
       "\t 22Rv1pos\\_circularRNA\\_known & 128429\\\\\n",
       "\t LNCaPneg\\_circularRNA\\_known & 12658 \\\\\n",
       "\t LNCaPpos\\_circularRNA\\_known & 123892\\\\\n",
       "\t PC3neg\\_circularRNA\\_known   & 14022 \\\\\n",
       "\t PC3pos\\_circularRNA\\_known   & 142643\\\\\n",
       "\\end{tabular}\n"
      ],
      "text/markdown": [
       "\n",
       "A data.frame: 6 × 2\n",
       "\n",
       "| sample &lt;chr&gt; | count &lt;chr&gt; |\n",
       "|---|---|\n",
       "| 22Rv1neg_circularRNA_known | 9034   |\n",
       "| 22Rv1pos_circularRNA_known | 128429 |\n",
       "| LNCaPneg_circularRNA_known | 12658  |\n",
       "| LNCaPpos_circularRNA_known | 123892 |\n",
       "| PC3neg_circularRNA_known   | 14022  |\n",
       "| PC3pos_circularRNA_known   | 142643 |\n",
       "\n"
      ],
      "text/plain": [
       "  sample                     count \n",
       "1 22Rv1neg_circularRNA_known 9034  \n",
       "2 22Rv1pos_circularRNA_known 128429\n",
       "3 LNCaPneg_circularRNA_known 12658 \n",
       "4 LNCaPpos_circularRNA_known 123892\n",
       "5 PC3neg_circularRNA_known   14022 \n",
       "6 PC3pos_circularRNA_known   142643"
      ]
     },
     "metadata": {},
     "output_type": "display_data"
    }
   ],
   "source": [
    "hansen_circ_counts"
   ]
  },
  {
   "cell_type": "code",
   "execution_count": 32,
   "metadata": {
    "scrolled": true
   },
   "outputs": [
    {
     "data": {
      "text/html": [
       "<table>\n",
       "<caption>A data.frame: 4 × 2</caption>\n",
       "<thead>\n",
       "\t<tr><th scope=col>sample</th><th scope=col>count</th></tr>\n",
       "\t<tr><th scope=col>&lt;chr&gt;</th><th scope=col>&lt;chr&gt;</th></tr>\n",
       "</thead>\n",
       "<tbody>\n",
       "\t<tr><td>22Rv1ccle_circularRNA_known</td><td>2260</td></tr>\n",
       "\t<tr><td>LNCaPccle_circularRNA_known</td><td>1968</td></tr>\n",
       "\t<tr><td>PC3ccle_circularRNA_known  </td><td>1843</td></tr>\n",
       "\t<tr><td>PC3gcsi_circularRNA_known  </td><td>2262</td></tr>\n",
       "</tbody>\n",
       "</table>\n"
      ],
      "text/latex": [
       "A data.frame: 4 × 2\n",
       "\\begin{tabular}{ll}\n",
       " sample & count\\\\\n",
       " <chr> & <chr>\\\\\n",
       "\\hline\n",
       "\t 22Rv1ccle\\_circularRNA\\_known & 2260\\\\\n",
       "\t LNCaPccle\\_circularRNA\\_known & 1968\\\\\n",
       "\t PC3ccle\\_circularRNA\\_known   & 1843\\\\\n",
       "\t PC3gcsi\\_circularRNA\\_known   & 2262\\\\\n",
       "\\end{tabular}\n"
      ],
      "text/markdown": [
       "\n",
       "A data.frame: 4 × 2\n",
       "\n",
       "| sample &lt;chr&gt; | count &lt;chr&gt; |\n",
       "|---|---|\n",
       "| 22Rv1ccle_circularRNA_known | 2260 |\n",
       "| LNCaPccle_circularRNA_known | 1968 |\n",
       "| PC3ccle_circularRNA_known   | 1843 |\n",
       "| PC3gcsi_circularRNA_known   | 2262 |\n",
       "\n"
      ],
      "text/plain": [
       "  sample                      count\n",
       "1 22Rv1ccle_circularRNA_known 2260 \n",
       "2 LNCaPccle_circularRNA_known 1968 \n",
       "3 PC3ccle_circularRNA_known   1843 \n",
       "4 PC3gcsi_circularRNA_known   2262 "
      ]
     },
     "metadata": {},
     "output_type": "display_data"
    }
   ],
   "source": [
    "hansen_circ_matched"
   ]
  },
  {
   "cell_type": "markdown",
   "metadata": {},
   "source": [
    "## Validate circRNA's with matched RNAse-R Hansen samples (CIRI2, CIRCexplorer)"
   ]
  },
  {
   "cell_type": "code",
   "execution_count": 34,
   "metadata": {},
   "outputs": [],
   "source": [
    "##filter circRNA's (CIRI2) which have at least 1.5-fold enrichment in matching RNAse-R sample (polyA vs RNAse-R / Ribo-zero vs RNAse-R)\n",
    "filterCIRI <- function(nonRNAseR_dir, RNAseR_dir, suff){\n",
    "  #\"*neg.tsv$\" <- for ribominus\n",
    "  #\"\\\\.tsv$\"<- for poly-A selected data\n",
    "  ciri_files <- list.files(path=nonRNAseR_dir, pattern = suff, full.names = T)\n",
    "  circ_counts_df <- data.frame(matrix(ncol=2, nrow = length(ciri_files)))\n",
    "  colnames(circ_counts_df) <- c(\"sample\", \"count\")\n",
    "  for (f in 1:length(ciri_files)) {\n",
    "    sample <- read.table(file = ciri_files[f], \n",
    "                         sep = '\\t', \n",
    "                         skip = 1,\n",
    "                         header = FALSE)\n",
    "    \n",
    "    sample_name <- gsub(\"\\\\..*\",\"\", ciri_files[f])\n",
    "    sample_name <- gsub(\".*/\",\"\", sample_name)\n",
    "    match_name <- gsub(\"ccle|gcsi\", \"\",ciri_files[f])\n",
    "    match_name <- gsub(\"\\\\..*\",\"\", match_name)\n",
    "    match_name <- gsub(\".*/\",\"\", match_name)\n",
    "    match_name <- gsub(\"neg\",\"\", match_name)\n",
    "    \n",
    "    hansen_match <- read.table(file = paste0(RNAseR_dir, match_name,\"pos.tsv\"), \n",
    "                               sep = '\\t', \n",
    "                               skip = 1,\n",
    "                               header = FALSE)\n",
    "    \n",
    "    colnames(sample) <- c(\"circRNA_ID\",\"chr\",\"circRNA_start\",\"circRNA_end\",\"junction_reads\", \"SM_MS_SMS\", \"non_junction_reads\", \"junction_reads_ratio\", \"circRNA_type\", \"gene_id\", \"strand\",\"junction_reads_ID\")\n",
    "    colnames(hansen_match) <- c(\"circRNA_ID\",\"chr\",\"circRNA_start\",\"circRNA_end\",\"junction_reads\", \"SM_MS_SMS\", \"non_junction_reads\", \"junction_reads_ratio\", \"circRNA_type\", \"gene_id\", \"strand\",\"junction_reads_ID\")\n",
    "\n",
    "    sample_match <- sample[which(sample$circRNA_type==\"exon\"),]\n",
    "    sample_match <- sample_match[which(sample_match$junction_reads >= 2),]  \n",
    "    \n",
    "    hansen_match <- hansen_match[which(hansen_match$circRNA_type==\"exon\"),]\n",
    "    hansen_match <- hansen_match[which(hansen_match$junction_reads >= 2),]\n",
    "    \n",
    "    sample_match <- sample_match[which(sample_match$circRNA_ID %in% hansen_match$circRNA_ID),]\n",
    "    hansen_match <- hansen_match[which(hansen_match$circRNA_ID %in% sample_match$circRNA_ID),]\n",
    "    hansen_match  <- hansen_match[order(sample_match$circRNA_ID),]\n",
    "    \n",
    "    filtered <- sample_match[hansen_match$junction_reads/sample_match$junction_reads >= 1.5,]\n",
    "\n",
    "    count <- sum(filtered$junction_reads)\n",
    "    circ_counts_df[f,] <- c(sample_name,count)\n",
    "  }\n",
    "  return(circ_counts_df)\n",
    "} \n"
   ]
  },
  {
   "cell_type": "code",
   "execution_count": 41,
   "metadata": {},
   "outputs": [],
   "source": [
    "#validated circRNA's from 22Rv1 (CCLE), LNCaP(CCLE), PC3(CCLE/gCSI) using matched Hansen RNAse-R enriched samples\n",
    "validated_polyA_ciri <- filterCIRI(nonRNAseR_dir = \"results/CIRI2/hansen_match/result\", \n",
    "                                RNAseR_dir = \"results/CIRI2/hansen/result/\",\n",
    "                                suff = \"\\\\.tsv$\")\n",
    "\n",
    "#validated circRNA's from 22Rv1, LNCaP, and PC3 Hansen Ribo-Zero samples using matched Hansen RNAse-R enriched samples\n",
    "validated_RiboZero_ciri <- filterCIRI(nonRNAseR_dir = \"results/CIRI2/hansen/result\", \n",
    "                                       RNAseR_dir = \"results/CIRI2/hansen/result/\",\n",
    "                                       suff = \"*neg.tsv$\")"
   ]
  },
  {
   "cell_type": "code",
   "execution_count": 42,
   "metadata": {},
   "outputs": [
    {
     "data": {
      "text/html": [
       "<table>\n",
       "<caption>A data.frame: 4 × 2</caption>\n",
       "<thead>\n",
       "\t<tr><th scope=col>sample</th><th scope=col>count</th></tr>\n",
       "\t<tr><th scope=col>&lt;chr&gt;</th><th scope=col>&lt;chr&gt;</th></tr>\n",
       "</thead>\n",
       "<tbody>\n",
       "\t<tr><td>22Rv1ccle</td><td>10</td></tr>\n",
       "\t<tr><td>LNCaPccle</td><td>36</td></tr>\n",
       "\t<tr><td>PC3ccle  </td><td>25</td></tr>\n",
       "\t<tr><td>PC3gcsi  </td><td>83</td></tr>\n",
       "</tbody>\n",
       "</table>\n"
      ],
      "text/latex": [
       "A data.frame: 4 × 2\n",
       "\\begin{tabular}{ll}\n",
       " sample & count\\\\\n",
       " <chr> & <chr>\\\\\n",
       "\\hline\n",
       "\t 22Rv1ccle & 10\\\\\n",
       "\t LNCaPccle & 36\\\\\n",
       "\t PC3ccle   & 25\\\\\n",
       "\t PC3gcsi   & 83\\\\\n",
       "\\end{tabular}\n"
      ],
      "text/markdown": [
       "\n",
       "A data.frame: 4 × 2\n",
       "\n",
       "| sample &lt;chr&gt; | count &lt;chr&gt; |\n",
       "|---|---|\n",
       "| 22Rv1ccle | 10 |\n",
       "| LNCaPccle | 36 |\n",
       "| PC3ccle   | 25 |\n",
       "| PC3gcsi   | 83 |\n",
       "\n"
      ],
      "text/plain": [
       "  sample    count\n",
       "1 22Rv1ccle 10   \n",
       "2 LNCaPccle 36   \n",
       "3 PC3ccle   25   \n",
       "4 PC3gcsi   83   "
      ]
     },
     "metadata": {},
     "output_type": "display_data"
    }
   ],
   "source": [
    "validated_polyA_ciri"
   ]
  },
  {
   "cell_type": "code",
   "execution_count": 43,
   "metadata": {},
   "outputs": [
    {
     "data": {
      "text/html": [
       "<table>\n",
       "<caption>A data.frame: 3 × 2</caption>\n",
       "<thead>\n",
       "\t<tr><th scope=col>sample</th><th scope=col>count</th></tr>\n",
       "\t<tr><th scope=col>&lt;chr&gt;</th><th scope=col>&lt;chr&gt;</th></tr>\n",
       "</thead>\n",
       "<tbody>\n",
       "\t<tr><td>22Rv1neg</td><td>3018</td></tr>\n",
       "\t<tr><td>LNCaPneg</td><td>5740</td></tr>\n",
       "\t<tr><td>PC3neg  </td><td>5577</td></tr>\n",
       "</tbody>\n",
       "</table>\n"
      ],
      "text/latex": [
       "A data.frame: 3 × 2\n",
       "\\begin{tabular}{ll}\n",
       " sample & count\\\\\n",
       " <chr> & <chr>\\\\\n",
       "\\hline\n",
       "\t 22Rv1neg & 3018\\\\\n",
       "\t LNCaPneg & 5740\\\\\n",
       "\t PC3neg   & 5577\\\\\n",
       "\\end{tabular}\n"
      ],
      "text/markdown": [
       "\n",
       "A data.frame: 3 × 2\n",
       "\n",
       "| sample &lt;chr&gt; | count &lt;chr&gt; |\n",
       "|---|---|\n",
       "| 22Rv1neg | 3018 |\n",
       "| LNCaPneg | 5740 |\n",
       "| PC3neg   | 5577 |\n",
       "\n"
      ],
      "text/plain": [
       "  sample   count\n",
       "1 22Rv1neg 3018 \n",
       "2 LNCaPneg 5740 \n",
       "3 PC3neg   5577 "
      ]
     },
     "metadata": {},
     "output_type": "display_data"
    }
   ],
   "source": [
    "validated_RiboZero_ciri"
   ]
  },
  {
   "cell_type": "code",
   "execution_count": 48,
   "metadata": {},
   "outputs": [],
   "source": [
    "##filter circRNA's (CIRCexplorer2) which have at least 1.5-fold enrichment in matching RNAse-R sample (polyA vs RNAse-R / Ribo-zero vs RNAse-R)\n",
    "filterCIRC <- function(nonRNAseR_dir, RNAseR_dir, suff){\n",
    "  #\"*neg*\" <- for ribominus\n",
    "  #\"\\\\.txt$\"<- for poly-A selected data\n",
    "  circ_files <- list.files(path=nonRNAseR_dir,  pattern = suff, full.names = T, recursive = TRUE)\n",
    "  circ_counts_df <- data.frame(matrix(ncol=2, nrow = length(circ_files)))\n",
    "  colnames(circ_counts_df) <- c(\"sample\", \"count\")\n",
    "  for (f in 1:length(circ_files)) {\n",
    "    sample <- read.table(file = circ_files[f], \n",
    "                         sep = '\\t',\n",
    "                         header = FALSE)\n",
    "    \n",
    "    sample_name <- gsub(\"_circularRNA_known.txt\",\"\", circ_files[f])\n",
    "    sample_name <- gsub(\".*/\",\"\", sample_name)\n",
    "    match_name <- gsub(\"neg\", \"\",sample_name)\n",
    "    match_name <- gsub(\"ccle|gcsi\", \"\",match_name)\n",
    "    \n",
    "    hansen_match <- read.table(file = paste0(RNAseR_dir, \"/\" ,match_name, \"pos\", \"/\", match_name,\"pos\", \"_circularRNA_known.txt\"),\n",
    "                               sep = '\\t',\n",
    "                               header = FALSE)\n",
    "    \n",
    "    colnames(sample) <- c(\"chrom\",\"start\",\"end\", \"name\",\"score\",\"strand\",\"thickStart\",\"thickEnd\",\"itemRgb\",\"exonCount\",\"exonSizes\", \"exonOffsets\", \"readNumber\", \"circType\", \"geneName\", \"isoformName\", \"index\", \"flankIntron\")\n",
    "    colnames(hansen_match) <- c(\"chrom\",\"start\",\"end\", \"name\",\"score\",\"strand\",\"thickStart\",\"thickEnd\",\"itemRgb\",\"exonCount\",\"exonSizes\", \"exonOffsets\", \"readNumber\", \"circType\", \"geneName\", \"isoformName\", \"index\", \"flankIntron\")\n",
    "    \n",
    "    sample_match <- sample[which(sample$circType==\"circRNA\"),]\n",
    "    sample_match <- sample_match[which(sample_match$readNumber >= 2),]  \n",
    "    \n",
    "    hansen_match <- hansen_match[which(hansen_match$circType==\"circRNA\"),]\n",
    "    #hansen_match <- hansen_match[which(hansen_match$readNumber >= 2),]\n",
    "    \n",
    "    sample_match$pos <- paste0(sample_match$chrom,sample_match$start,sample_match$end)\n",
    "    hansen_match$pos <- paste0(hansen_match$chrom,hansen_match$start,hansen_match$end)\n",
    "    \n",
    "    sample_match <- sample_match[which(sample_match$pos %in% hansen_match$pos),]\n",
    "    hansen_match <- hansen_match[which(hansen_match$pos %in% sample_match$pos),]\n",
    "    hansen_match  <- hansen_match[match(sample_match$pos, hansen_match$pos),]\n",
    "    \n",
    "    filtered <- sample_match[hansen_match$readNumber/sample_match$readNumber >= 1.5,]\n",
    "    \n",
    "    count <- sum(filtered$readNumber)\n",
    "    circ_counts_df[f,] <- c(sample_name,count)\n",
    "  }\n",
    "  return(circ_counts_df)\n",
    "} "
   ]
  },
  {
   "cell_type": "code",
   "execution_count": 93,
   "metadata": {},
   "outputs": [],
   "source": [
    "#validated circRNA's from 22Rv1 (CCLE), LNCaP(CCLE), PC3(CCLE/gCSI) using matched Hansen RNAse-R enriched samples\n",
    "validated_polyA_circ <- filterCIRC(nonRNAseR_dir = \"results/CIRCexplorer2/hansen_match/annotate\", \n",
    "                                       RNAseR_dir = \"results/CIRCexplorer2/hansen/annotate\",\n",
    "                                       suff = \"\\\\.txt$\")\n",
    "\n",
    "\n",
    "#validated circRNA's from 22Rv1, LNCaP, and PC3 Hansen Ribo-Zero samples using matched Hansen RNAse-R enriched samples\n",
    "validated_RiboZero_circ <- filterCIRC(nonRNAseR_dir = \"results/CIRCexplorer2/hansen/annotate\", \n",
    "                                       RNAseR_dir = \"results/CIRCexplorer2/hansen/annotate\",\n",
    "                                       suff = \"*neg*\")"
   ]
  },
  {
   "cell_type": "code",
   "execution_count": 94,
   "metadata": {},
   "outputs": [
    {
     "data": {
      "text/html": [
       "<table>\n",
       "<caption>A data.frame: 4 × 2</caption>\n",
       "<thead>\n",
       "\t<tr><th scope=col>sample</th><th scope=col>count</th></tr>\n",
       "\t<tr><th scope=col>&lt;chr&gt;</th><th scope=col>&lt;chr&gt;</th></tr>\n",
       "</thead>\n",
       "<tbody>\n",
       "\t<tr><td>22Rv1ccle</td><td>40</td></tr>\n",
       "\t<tr><td>LNCaPccle</td><td>54</td></tr>\n",
       "\t<tr><td>PC3ccle  </td><td>92</td></tr>\n",
       "\t<tr><td>PC3gcsi  </td><td>79</td></tr>\n",
       "</tbody>\n",
       "</table>\n"
      ],
      "text/latex": [
       "A data.frame: 4 × 2\n",
       "\\begin{tabular}{ll}\n",
       " sample & count\\\\\n",
       " <chr> & <chr>\\\\\n",
       "\\hline\n",
       "\t 22Rv1ccle & 40\\\\\n",
       "\t LNCaPccle & 54\\\\\n",
       "\t PC3ccle   & 92\\\\\n",
       "\t PC3gcsi   & 79\\\\\n",
       "\\end{tabular}\n"
      ],
      "text/markdown": [
       "\n",
       "A data.frame: 4 × 2\n",
       "\n",
       "| sample &lt;chr&gt; | count &lt;chr&gt; |\n",
       "|---|---|\n",
       "| 22Rv1ccle | 40 |\n",
       "| LNCaPccle | 54 |\n",
       "| PC3ccle   | 92 |\n",
       "| PC3gcsi   | 79 |\n",
       "\n"
      ],
      "text/plain": [
       "  sample    count\n",
       "1 22Rv1ccle 40   \n",
       "2 LNCaPccle 54   \n",
       "3 PC3ccle   92   \n",
       "4 PC3gcsi   79   "
      ]
     },
     "metadata": {},
     "output_type": "display_data"
    }
   ],
   "source": [
    "validated_polyA_circ"
   ]
  },
  {
   "cell_type": "code",
   "execution_count": 95,
   "metadata": {},
   "outputs": [
    {
     "data": {
      "text/html": [
       "<table>\n",
       "<caption>A data.frame: 3 × 2</caption>\n",
       "<thead>\n",
       "\t<tr><th scope=col>sample</th><th scope=col>count</th></tr>\n",
       "\t<tr><th scope=col>&lt;chr&gt;</th><th scope=col>&lt;chr&gt;</th></tr>\n",
       "</thead>\n",
       "<tbody>\n",
       "\t<tr><td>22Rv1neg</td><td>5338 </td></tr>\n",
       "\t<tr><td>LNCaPneg</td><td>9923 </td></tr>\n",
       "\t<tr><td>PC3neg  </td><td>10511</td></tr>\n",
       "</tbody>\n",
       "</table>\n"
      ],
      "text/latex": [
       "A data.frame: 3 × 2\n",
       "\\begin{tabular}{ll}\n",
       " sample & count\\\\\n",
       " <chr> & <chr>\\\\\n",
       "\\hline\n",
       "\t 22Rv1neg & 5338 \\\\\n",
       "\t LNCaPneg & 9923 \\\\\n",
       "\t PC3neg   & 10511\\\\\n",
       "\\end{tabular}\n"
      ],
      "text/markdown": [
       "\n",
       "A data.frame: 3 × 2\n",
       "\n",
       "| sample &lt;chr&gt; | count &lt;chr&gt; |\n",
       "|---|---|\n",
       "| 22Rv1neg | 5338  |\n",
       "| LNCaPneg | 9923  |\n",
       "| PC3neg   | 10511 |\n",
       "\n"
      ],
      "text/plain": [
       "  sample   count\n",
       "1 22Rv1neg 5338 \n",
       "2 LNCaPneg 9923 \n",
       "3 PC3neg   10511"
      ]
     },
     "metadata": {},
     "output_type": "display_data"
    }
   ],
   "source": [
    "validated_RiboZero_circ"
   ]
  },
  {
   "cell_type": "markdown",
   "metadata": {},
   "source": [
    "## circRNA read-counts distribution (gCSI, CCLE, GDSC)"
   ]
  },
  {
   "cell_type": "code",
   "execution_count": 109,
   "metadata": {},
   "outputs": [
    {
     "data": {
      "image/png": "[encoded data removed]",
      "text/plain": [
       "plot without title"
      ]
     },
     "metadata": {
      "image/png": {
       "height": 420,
       "width": 420
      },
      "text/plain": {
       "height": 420,
       "width": 420
      }
     },
     "output_type": "display_data"
    }
   ],
   "source": [
    "df.m <- reshape2::melt(ciri_combined[,c(\"gCSI\",\"CCLE\",\"GDSC\")], id.vars = NULL)\n",
    "df.m2 <- reshape2::melt(circ_combined[,c(\"gCSI\",\"CCLE\",\"GDSC\")], id.vars = NULL)\n",
    "df.m$tool <- \"CIRI2\"\n",
    "df.m2$tool <- \"CIRCexplorer2\"\n",
    "df.m3 <- rbind(df.m2,df.m)\n",
    "\n",
    "ggplot(df.m3, aes(x = variable, y = value, fill=tool)) + geom_violin() + \n",
    "   scale_fill_manual(values = c(\"#00AFBB\", \"#E7B800\", \"#FC4E07\"))  + labs(title=\"Number of detected circRNA's per dataset\", \n",
    "                                                                                                                subtitle=\"\",\n",
    "                                                                                                                x=\"Dataset\",\n",
    "                                                                                                                y=\"circRNA Number\") + theme(legend.position=\"right\", plot.title = element_text(hjust = 0.5))\n",
    "          "
   ]
  },
  {
   "cell_type": "code",
   "execution_count": null,
   "metadata": {},
   "outputs": [],
   "source": []
  }
 ],
 "metadata": {
  "kernelspec": {
   "display_name": "R",
   "language": "R",
   "name": "ir"
  },
  "language_info": {
   "codemirror_mode": "r",
   "file_extension": ".r",
   "mimetype": "text/x-r-source",
   "name": "R",
   "pygments_lexer": "r",
   "version": "4.0.0"
  }
 },
 "nbformat": 4,
 "nbformat_minor": 4
}
